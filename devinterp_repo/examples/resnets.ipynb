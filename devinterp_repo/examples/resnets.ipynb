{
    "cells": [
        {
            "cell_type": "markdown",
            "metadata": {},
            "source": [
                "# Resnets\n",
                "\n",
                "[![Open In Colab](https://colab.research.google.com/assets/colab-badge.svg)](https://colab.research.google.com/github/timaeus-research/devinterp/blob/main/examples/resnets.ipynb)"
            ]
        },
        {
            "cell_type": "code",
            "execution_count": 1,
            "metadata": {},
            "outputs": [],
            "source": [
                "# %pip install devinterp matplotlib seaborn torchvision"
            ]
        },
        {
            "cell_type": "code",
            "execution_count": 2,
            "metadata": {},
            "outputs": [],
            "source": [
                "import os\n",
                "\n",
                "import matplotlib.pyplot as plt\n",
                "import numpy as np\n",
                "import seaborn as sns\n",
                "import torch\n",
                "from torch import optim, nn\n",
                "from torch.utils.data import DataLoader\n",
                "import torchvision\n",
                "from torchvision import datasets, transforms\n",
                "from tqdm.notebook import tqdm\n",
                "\n",
                "from devinterp.slt import estimate_learning_coeff\n",
                "from devinterp.optim.sgld import SGLD\n",
                "\n",
                "device = torch.device(\"cuda\" if torch.cuda.is_available() else \"mps\" if torch.backends.mps.is_available()\n",
                "                       else \"cpu\")"
            ]
        },
        {
            "cell_type": "code",
            "execution_count": 3,
            "metadata": {},
            "outputs": [
                {
                    "name": "stdout",
                    "output_type": "stream",
                    "text": [
                        "Downloading https://www.cs.toronto.edu/~kriz/cifar-10-python.tar.gz to ../data/cifar-10-python.tar.gz\n"
                    ]
                },
                {
                    "name": "stderr",
                    "output_type": "stream",
                    "text": [
                        "100%|██████████| 170498071/170498071 [00:12<00:00, 13139562.49it/s]\n"
                    ]
                },
                {
                    "name": "stdout",
                    "output_type": "stream",
                    "text": [
                        "Extracting ../data/cifar-10-python.tar.gz to ../data\n",
                        "Files already downloaded and verified\n"
                    ]
                }
            ],
            "source": [
                "# Transform to imagenet format\n",
                "transform = transforms.Compose(\n",
                "    [\n",
                "        transforms.ToTensor(),\n",
                "        transforms.Normalize(mean=[0.485, 0.456, 0.406], std=[0.229, 0.244, 0.225]),\n",
                "    ]\n",
                ")\n",
                "\n",
                "trainset = datasets.CIFAR10(root=\"../data\", train=True, download=True, transform=transform)\n",
                "testset = datasets.CIFAR10(root=\"../data\", train=False, download=True, transform=transform)\n",
                "\n",
                "trainloader = DataLoader(trainset, batch_size=256, shuffle=True)\n",
                "testloader = DataLoader(testset, batch_size=256, shuffle=False)"
            ]
        },
        {
            "cell_type": "code",
            "execution_count": 4,
            "metadata": {},
            "outputs": [
                {
                    "name": "stderr",
                    "output_type": "stream",
                    "text": [
                        "/Users/cybershiptrooper/miniconda3/envs/devinterp/lib/python3.10/site-packages/torchvision/models/_utils.py:208: UserWarning: The parameter 'pretrained' is deprecated since 0.13 and may be removed in the future, please use 'weights' instead.\n",
                        "  warnings.warn(\n",
                        "/Users/cybershiptrooper/miniconda3/envs/devinterp/lib/python3.10/site-packages/torchvision/models/_utils.py:223: UserWarning: Arguments other than a weight enum or `None` for 'weights' are deprecated since 0.13 and may be removed in the future. The current behavior is equivalent to passing `weights=ResNet18_Weights.IMAGENET1K_V1`. You can also use `weights=ResNet18_Weights.DEFAULT` to get the most up-to-date weights.\n",
                        "  warnings.warn(msg)\n",
                        "Downloading: \"https://download.pytorch.org/models/resnet18-f37072fd.pth\" to /Users/cybershiptrooper/.cache/torch/hub/checkpoints/resnet18-f37072fd.pth\n",
                        "100%|██████████| 44.7M/44.7M [00:01<00:00, 40.6MB/s]\n"
                    ]
                },
                {
                    "data": {
                        "application/vnd.jupyter.widget-view+json": {
                            "model_id": "b964a6f9352b4d9ca66274ff0d66df5f",
                            "version_major": 2,
                            "version_minor": 0
                        },
                        "text/plain": [
                            "Epoch 0:   0%|          | 0/196 [00:00<?, ?it/s]"
                        ]
                    },
                    "metadata": {},
                    "output_type": "display_data"
                },
                {
                    "name": "stdout",
                    "output_type": "stream",
                    "text": [
                        "Epoch: 0, Train Loss: 0.8780567646026611, Test Loss: 0.9648884162306786, Train Acc: 0.7014, Test Acc: 0.6639\n"
                    ]
                },
                {
                    "data": {
                        "application/vnd.jupyter.widget-view+json": {
                            "model_id": "7f1a6d94910c457da54c4b77b883ec12",
                            "version_major": 2,
                            "version_minor": 0
                        },
                        "text/plain": [
                            "Epoch 1:   0%|          | 0/196 [00:00<?, ?it/s]"
                        ]
                    },
                    "metadata": {},
                    "output_type": "display_data"
                },
                {
                    "name": "stdout",
                    "output_type": "stream",
                    "text": [
                        "Epoch: 1, Train Loss: 0.659235737153462, Test Loss: 0.7929425328969956, Train Acc: 0.78684, Test Acc: 0.7274\n"
                    ]
                },
                {
                    "data": {
                        "application/vnd.jupyter.widget-view+json": {
                            "model_id": "8ad19f0ac48c4d339c08b212e9f0d2de",
                            "version_major": 2,
                            "version_minor": 0
                        },
                        "text/plain": [
                            "Epoch 2:   0%|          | 0/196 [00:00<?, ?it/s]"
                        ]
                    },
                    "metadata": {},
                    "output_type": "display_data"
                },
                {
                    "name": "stdout",
                    "output_type": "stream",
                    "text": [
                        "Epoch: 2, Train Loss: 0.5184543292437281, Test Loss: 0.7031893372535706, Train Acc: 0.83892, Test Acc: 0.7669\n"
                    ]
                },
                {
                    "data": {
                        "application/vnd.jupyter.widget-view+json": {
                            "model_id": "49046e5d2ef24a158a42a018b8b8c8a1",
                            "version_major": 2,
                            "version_minor": 0
                        },
                        "text/plain": [
                            "Epoch 3:   0%|          | 0/196 [00:00<?, ?it/s]"
                        ]
                    },
                    "metadata": {},
                    "output_type": "display_data"
                },
                {
                    "name": "stdout",
                    "output_type": "stream",
                    "text": [
                        "Epoch: 3, Train Loss: 0.41950428561896697, Test Loss: 0.6609563961625099, Train Acc: 0.87836, Test Acc: 0.7854\n"
                    ]
                },
                {
                    "data": {
                        "application/vnd.jupyter.widget-view+json": {
                            "model_id": "6164c0a4459b46b4826a8ade2e75b5c2",
                            "version_major": 2,
                            "version_minor": 0
                        },
                        "text/plain": [
                            "Epoch 4:   0%|          | 0/196 [00:00<?, ?it/s]"
                        ]
                    },
                    "metadata": {},
                    "output_type": "display_data"
                },
                {
                    "name": "stdout",
                    "output_type": "stream",
                    "text": [
                        "Epoch: 4, Train Loss: 0.3312061719444333, Test Loss: 0.6496122017502785, Train Acc: 0.91642, Test Acc: 0.7917\n"
                    ]
                },
                {
                    "data": {
                        "application/vnd.jupyter.widget-view+json": {
                            "model_id": "8c87ecc814f34f72a12163fff614d160",
                            "version_major": 2,
                            "version_minor": 0
                        },
                        "text/plain": [
                            "Epoch 5:   0%|          | 0/196 [00:00<?, ?it/s]"
                        ]
                    },
                    "metadata": {},
                    "output_type": "display_data"
                },
                {
                    "name": "stdout",
                    "output_type": "stream",
                    "text": [
                        "Epoch: 5, Train Loss: 0.3038527515469765, Test Loss: 0.659464131295681, Train Acc: 0.92658, Test Acc: 0.7972\n"
                    ]
                },
                {
                    "data": {
                        "application/vnd.jupyter.widget-view+json": {
                            "model_id": "5cdd2e00378b4a0f8038c140fc03128d",
                            "version_major": 2,
                            "version_minor": 0
                        },
                        "text/plain": [
                            "Epoch 6:   0%|          | 0/196 [00:00<?, ?it/s]"
                        ]
                    },
                    "metadata": {},
                    "output_type": "display_data"
                },
                {
                    "name": "stdout",
                    "output_type": "stream",
                    "text": [
                        "Epoch: 6, Train Loss: 0.34849533484298356, Test Loss: 0.6973264157772064, Train Acc: 0.91536, Test Acc: 0.7886\n"
                    ]
                },
                {
                    "data": {
                        "application/vnd.jupyter.widget-view+json": {
                            "model_id": "a6d9481fa37746d19e34e95d2bf55f16",
                            "version_major": 2,
                            "version_minor": 0
                        },
                        "text/plain": [
                            "Epoch 7:   0%|          | 0/196 [00:00<?, ?it/s]"
                        ]
                    },
                    "metadata": {},
                    "output_type": "display_data"
                },
                {
                    "name": "stdout",
                    "output_type": "stream",
                    "text": [
                        "Epoch: 7, Train Loss: 0.3745258304537559, Test Loss: 0.705651244521141, Train Acc: 0.91292, Test Acc: 0.7925\n"
                    ]
                },
                {
                    "data": {
                        "application/vnd.jupyter.widget-view+json": {
                            "model_id": "ef6fb333f74f4fa78bfea5afaf51dca8",
                            "version_major": 2,
                            "version_minor": 0
                        },
                        "text/plain": [
                            "Epoch 8:   0%|          | 0/196 [00:00<?, ?it/s]"
                        ]
                    },
                    "metadata": {},
                    "output_type": "display_data"
                },
                {
                    "name": "stdout",
                    "output_type": "stream",
                    "text": [
                        "Epoch: 8, Train Loss: 0.4376412573821691, Test Loss: 0.7485864400863648, Train Acc: 0.90066, Test Acc: 0.7857\n"
                    ]
                },
                {
                    "data": {
                        "application/vnd.jupyter.widget-view+json": {
                            "model_id": "212864051ad94449ba8990e2512740fb",
                            "version_major": 2,
                            "version_minor": 0
                        },
                        "text/plain": [
                            "Epoch 9:   0%|          | 0/196 [00:00<?, ?it/s]"
                        ]
                    },
                    "metadata": {},
                    "output_type": "display_data"
                },
                {
                    "name": "stdout",
                    "output_type": "stream",
                    "text": [
                        "Epoch: 9, Train Loss: 0.4714664188878877, Test Loss: 0.7481121346354485, Train Acc: 0.89464, Test Acc: 0.7919\n"
                    ]
                },
                {
                    "data": {
                        "image/png": "[encoded data removed]",
                        "text/plain": [
                            "<Figure size 432x288 with 1 Axes>"
                        ]
                    },
                    "metadata": {
                        "needs_background": "light"
                    },
                    "output_type": "display_data"
                },
                {
                    "data": {
                        "image/png": "[encoded data removed]",
                        "text/plain": [
                            "<Figure size 432x288 with 1 Axes>"
                        ]
                    },
                    "metadata": {
                        "needs_background": "light"
                    },
                    "output_type": "display_data"
                }
            ],
            "source": [
                "model = torchvision.models.resnet18(pretrained=True)\n",
                "model.fc = nn.Linear(model.fc.in_features, 10)\n",
                "model = model.to(device)\n",
                "\n",
                "\n",
                "def finetune(\n",
                "    model,\n",
                "    trainloader,\n",
                "    testloader,\n",
                "    lr=0.01,\n",
                "    momentum=0.9,\n",
                "    epochs=10,\n",
                "    epsilon=1e-4,\n",
                "    weight_decay=0.0,\n",
                "):\n",
                "    opt = optim.SGD(model.parameters(), lr=lr, momentum=momentum, weight_decay=weight_decay)\n",
                "    loss_fn = nn.CrossEntropyLoss()\n",
                "\n",
                "    train_loss_history = []\n",
                "    test_loss_history = []\n",
                "    train_acc_history = []\n",
                "    test_acc_history = []\n",
                "\n",
                "    epoch = 0\n",
                "    prev_train_loss = float(\"inf\")\n",
                "\n",
                "    while True:\n",
                "        # Train\n",
                "        model.train()\n",
                "        epoch_loss = 0.0\n",
                "        for x, y in tqdm(trainloader, desc=f\"Epoch {epoch}\", leave=False):\n",
                "            x, y = x.to(device), y.to(device)\n",
                "            opt.zero_grad()\n",
                "            loss = loss_fn(model(x), y)\n",
                "            loss.backward()\n",
                "            opt.step()\n",
                "            epoch_loss += loss.item()\n",
                "\n",
                "        # Eval on training set\n",
                "        model.eval()\n",
                "        with torch.no_grad():\n",
                "            total_train_loss = 0\n",
                "            total_train_correct = 0\n",
                "\n",
                "            for x, y in trainloader:\n",
                "                x, y = x.to(device), y.to(device)\n",
                "                output = model(x)\n",
                "\n",
                "                # print(x.shape, y.shape, output.shape, output, y)\n",
                "                loss = loss_fn(output, y)\n",
                "                total_train_loss += loss.item()\n",
                "                total_train_correct += (\n",
                "                    (output.max(dim=1).indices == y).sum().item()\n",
                "                )  # argmax doesn't work on MPS\n",
                "\n",
                "            avg_train_loss = total_train_loss / len(trainloader)\n",
                "            avg_train_acc = total_train_correct / len(trainset)\n",
                "            train_loss_history.append(avg_train_loss)\n",
                "            train_acc_history.append(avg_train_acc)\n",
                "\n",
                "            # Eval on test set\n",
                "            total_test_loss = 0\n",
                "            total_test_correct = 0\n",
                "\n",
                "            for x, y in testloader:\n",
                "                x, y = x.to(device), y.to(device)\n",
                "                output = model(x)\n",
                "                loss = loss_fn(output, y)\n",
                "                total_test_loss += loss.item()\n",
                "                total_test_correct += (output.max(dim=1).indices == y).sum().item()\n",
                "\n",
                "            avg_test_loss = total_test_loss / len(testloader)\n",
                "            avg_test_acc = total_test_correct / len(testset)\n",
                "            test_loss_history.append(avg_test_loss)\n",
                "            test_acc_history.append(avg_test_acc)\n",
                "\n",
                "            print(\n",
                "                f\"Epoch: {epoch}, Train Loss: {avg_train_loss}, Test Loss: {avg_test_loss}, Train Acc: {avg_train_acc}, Test Acc: {avg_test_acc}\"\n",
                "            )\n",
                "\n",
                "        # Check for convergence\n",
                "        if epsilon and abs(prev_train_loss - avg_train_loss) < epsilon:\n",
                "            break\n",
                "\n",
                "        if epochs is not None and epoch >= epochs - 1:\n",
                "            break\n",
                "\n",
                "        prev_train_loss = avg_train_loss\n",
                "        epoch += 1\n",
                "\n",
                "    # Plotting\n",
                "    plt.plot(train_loss_history, label=\"Train Loss\")\n",
                "    plt.plot(test_loss_history, label=\"Test Loss\")\n",
                "    plt.xlabel(\"Epoch\")\n",
                "    plt.ylabel(\"Loss\")\n",
                "    plt.yscale(\"log\")\n",
                "    plt.legend()\n",
                "    plt.show()\n",
                "\n",
                "    plt.plot(train_acc_history, label=\"Train Acc\")\n",
                "    plt.plot(test_acc_history, label=\"Test Acc\")\n",
                "    plt.xlabel(\"Epoch\")\n",
                "    plt.ylabel(\"Accuracy\")\n",
                "    plt.legend()\n",
                "    plt.show()\n",
                "    return train_loss_history[-1], test_loss_history[-1], train_acc_history[-1], test_acc_history[-1]\n",
                "\n",
                "\n",
                "finetune(model, trainloader, testloader, lr=0.001, weight_decay=0.1, epsilon=0.001)"
            ]
        },
        {
            "cell_type": "code",
            "execution_count": 7,
            "metadata": {},
            "outputs": [
                {
                    "name": "stdout",
                    "output_type": "stream",
                    "text": [
                        "Estimate 0: -200.52435275003157\n",
                        "Estimate 1: 107.82833403799926\n",
                        "Estimate 2: 31.13896938114366\n",
                        "Estimate 3: -98.27718259087783\n",
                        "Estimate 4: -203.6544595089611\n",
                        "Estimate 5: 23.884764692915923\n",
                        "Estimate 6: 375.3692919112746\n",
                        "Estimate 7: 5.790665828074265\n",
                        "Estimate 8: 48.30361337157306\n",
                        "Estimate 9: 106.12441606781152\n"
                    ]
                }
            ],
            "source": [
                "model.to(\"cpu\")\n",
                "for i in range(10):\n",
                "    rlct = estimate_learning_coeff(\n",
                "        model,\n",
                "        trainloader,\n",
                "        nn.CrossEntropyLoss(),\n",
                "        num_draws=10,\n",
                "        num_chains=5,\n",
                "        num_burnin_steps=0,\n",
                "        num_steps_bw_draws=1,\n",
                "        cores=None,\n",
                "        seed=None,\n",
                "        pbar=True,\n",
                "        device=\"cpu\",\n",
                "    )\n",
                "    print(f\"Estimate {i}:\", rlct)"
            ]
        },
        {
            "cell_type": "code",
            "execution_count": 8,
            "metadata": {},
            "outputs": [
                {
                    "name": "stdout",
                    "output_type": "stream",
                    "text": [
                        "-------------------- ResNet18 --------------------\n"
                    ]
                },
                {
                    "name": "stderr",
                    "output_type": "stream",
                    "text": [
                        "/Users/cybershiptrooper/miniconda3/envs/devinterp/lib/python3.10/site-packages/torchvision/models/_utils.py:208: UserWarning: The parameter 'pretrained' is deprecated since 0.13 and may be removed in the future, please use 'weights' instead.\n",
                        "  warnings.warn(\n",
                        "/Users/cybershiptrooper/miniconda3/envs/devinterp/lib/python3.10/site-packages/torchvision/models/_utils.py:223: UserWarning: Arguments other than a weight enum or `None` for 'weights' are deprecated since 0.13 and may be removed in the future. The current behavior is equivalent to passing `weights=ResNet18_Weights.IMAGENET1K_V1`. You can also use `weights=ResNet18_Weights.DEFAULT` to get the most up-to-date weights.\n",
                        "  warnings.warn(msg)\n"
                    ]
                },
                {
                    "data": {
                        "application/vnd.jupyter.widget-view+json": {
                            "model_id": "e66fb3b36c2646379a2405a5d241b298",
                            "version_major": 2,
                            "version_minor": 0
                        },
                        "text/plain": [
                            "Epoch 0:   0%|          | 0/196 [00:00<?, ?it/s]"
                        ]
                    },
                    "metadata": {},
                    "output_type": "display_data"
                },
                {
                    "name": "stdout",
                    "output_type": "stream",
                    "text": [
                        "Epoch: 0, Train Loss: 0.666263073682785, Test Loss: 0.7619410753250122, Train Acc: 0.77308, Test Acc: 0.7401\n"
                    ]
                },
                {
                    "data": {
                        "application/vnd.jupyter.widget-view+json": {
                            "model_id": "8863536cff004ce783b0a5d570c53e46",
                            "version_major": 2,
                            "version_minor": 0
                        },
                        "text/plain": [
                            "Epoch 1:   0%|          | 0/196 [00:00<?, ?it/s]"
                        ]
                    },
                    "metadata": {},
                    "output_type": "display_data"
                },
                {
                    "name": "stdout",
                    "output_type": "stream",
                    "text": [
                        "Epoch: 1, Train Loss: 0.4238442074583501, Test Loss: 0.6301673047244549, Train Acc: 0.85786, Test Acc: 0.7913\n"
                    ]
                },
                {
                    "data": {
                        "application/vnd.jupyter.widget-view+json": {
                            "model_id": "8b22d1cb0dbf42e48bcf05e16b5b8f52",
                            "version_major": 2,
                            "version_minor": 0
                        },
                        "text/plain": [
                            "Epoch 2:   0%|          | 0/196 [00:00<?, ?it/s]"
                        ]
                    },
                    "metadata": {},
                    "output_type": "display_data"
                },
                {
                    "name": "stdout",
                    "output_type": "stream",
                    "text": [
                        "Epoch: 2, Train Loss: 0.3219531906806693, Test Loss: 0.6251795545220376, Train Acc: 0.89152, Test Acc: 0.795\n"
                    ]
                },
                {
                    "data": {
                        "application/vnd.jupyter.widget-view+json": {
                            "model_id": "00157235e32c4480af8f373bcabef1b2",
                            "version_major": 2,
                            "version_minor": 0
                        },
                        "text/plain": [
                            "Epoch 3:   0%|          | 0/196 [00:00<?, ?it/s]"
                        ]
                    },
                    "metadata": {},
                    "output_type": "display_data"
                },
                {
                    "name": "stdout",
                    "output_type": "stream",
                    "text": [
                        "Epoch: 3, Train Loss: 0.23027640003330854, Test Loss: 0.6764838270843029, Train Acc: 0.9228, Test Acc: 0.7989\n"
                    ]
                },
                {
                    "data": {
                        "application/vnd.jupyter.widget-view+json": {
                            "model_id": "a21b5e07ece04f0a99cf77eaf07e34bc",
                            "version_major": 2,
                            "version_minor": 0
                        },
                        "text/plain": [
                            "Epoch 4:   0%|          | 0/196 [00:00<?, ?it/s]"
                        ]
                    },
                    "metadata": {},
                    "output_type": "display_data"
                },
                {
                    "name": "stdout",
                    "output_type": "stream",
                    "text": [
                        "Epoch: 4, Train Loss: 0.19342535171581773, Test Loss: 0.7291690796613693, Train Acc: 0.93506, Test Acc: 0.7932\n"
                    ]
                },
                {
                    "data": {
                        "application/vnd.jupyter.widget-view+json": {
                            "model_id": "58e1e0f425ec4493acb63060b909f0a6",
                            "version_major": 2,
                            "version_minor": 0
                        },
                        "text/plain": [
                            "Epoch 5:   0%|          | 0/196 [00:00<?, ?it/s]"
                        ]
                    },
                    "metadata": {},
                    "output_type": "display_data"
                },
                {
                    "name": "stdout",
                    "output_type": "stream",
                    "text": [
                        "Epoch: 5, Train Loss: 0.1394589461614283, Test Loss: 0.7225838020443917, Train Acc: 0.95328, Test Acc: 0.807\n"
                    ]
                },
                {
                    "data": {
                        "application/vnd.jupyter.widget-view+json": {
                            "model_id": "959cc4aaeafb4c0cbfeb601cffdeb9cd",
                            "version_major": 2,
                            "version_minor": 0
                        },
                        "text/plain": [
                            "Epoch 6:   0%|          | 0/196 [00:00<?, ?it/s]"
                        ]
                    },
                    "metadata": {},
                    "output_type": "display_data"
                },
                {
                    "name": "stdout",
                    "output_type": "stream",
                    "text": [
                        "Epoch: 6, Train Loss: 0.10325642908942334, Test Loss: 0.8150498524308205, Train Acc: 0.9652, Test Acc: 0.8057\n"
                    ]
                },
                {
                    "data": {
                        "application/vnd.jupyter.widget-view+json": {
                            "model_id": "c06eaa99710a4f61a831428c993705a7",
                            "version_major": 2,
                            "version_minor": 0
                        },
                        "text/plain": [
                            "Epoch 7:   0%|          | 0/196 [00:00<?, ?it/s]"
                        ]
                    },
                    "metadata": {},
                    "output_type": "display_data"
                },
                {
                    "name": "stdout",
                    "output_type": "stream",
                    "text": [
                        "Epoch: 7, Train Loss: 0.09685236629934943, Test Loss: 0.8697186067700386, Train Acc: 0.96724, Test Acc: 0.8039\n"
                    ]
                },
                {
                    "data": {
                        "application/vnd.jupyter.widget-view+json": {
                            "model_id": "990bdfb42ca14f8691188f05a7c6033b",
                            "version_major": 2,
                            "version_minor": 0
                        },
                        "text/plain": [
                            "Epoch 8:   0%|          | 0/196 [00:00<?, ?it/s]"
                        ]
                    },
                    "metadata": {},
                    "output_type": "display_data"
                },
                {
                    "name": "stdout",
                    "output_type": "stream",
                    "text": [
                        "Epoch: 8, Train Loss: 0.07722162663442445, Test Loss: 0.8607762411236763, Train Acc: 0.97464, Test Acc: 0.8076\n"
                    ]
                },
                {
                    "data": {
                        "application/vnd.jupyter.widget-view+json": {
                            "model_id": "fa4245e69ebd4120aff6dce9adf33db5",
                            "version_major": 2,
                            "version_minor": 0
                        },
                        "text/plain": [
                            "Epoch 9:   0%|          | 0/196 [00:00<?, ?it/s]"
                        ]
                    },
                    "metadata": {},
                    "output_type": "display_data"
                },
                {
                    "name": "stdout",
                    "output_type": "stream",
                    "text": [
                        "Epoch: 9, Train Loss: 0.05407725289768102, Test Loss: 0.8687256649136543, Train Acc: 0.982, Test Acc: 0.8126\n"
                    ]
                },
                {
                    "data": {
                        "image/png": "[encoded data removed]",
                        "text/plain": [
                            "<Figure size 432x288 with 1 Axes>"
                        ]
                    },
                    "metadata": {
                        "needs_background": "light"
                    },
                    "output_type": "display_data"
                },
                {
                    "data": {
                        "image/png": "[encoded data removed]",
                        "text/plain": [
                            "<Figure size 432x288 with 1 Axes>"
                        ]
                    },
                    "metadata": {
                        "needs_background": "light"
                    },
                    "output_type": "display_data"
                },
                {
                    "name": "stdout",
                    "output_type": "stream",
                    "text": [
                        "-144.4010639741258\n",
                        "-17.790123408103963\n",
                        "30.396288965050896\n",
                        "-------------------- ResNet34 --------------------\n"
                    ]
                },
                {
                    "name": "stderr",
                    "output_type": "stream",
                    "text": [
                        "/Users/cybershiptrooper/miniconda3/envs/devinterp/lib/python3.10/site-packages/torchvision/models/_utils.py:208: UserWarning: The parameter 'pretrained' is deprecated since 0.13 and may be removed in the future, please use 'weights' instead.\n",
                        "  warnings.warn(\n",
                        "/Users/cybershiptrooper/miniconda3/envs/devinterp/lib/python3.10/site-packages/torchvision/models/_utils.py:223: UserWarning: Arguments other than a weight enum or `None` for 'weights' are deprecated since 0.13 and may be removed in the future. The current behavior is equivalent to passing `weights=ResNet34_Weights.IMAGENET1K_V1`. You can also use `weights=ResNet34_Weights.DEFAULT` to get the most up-to-date weights.\n",
                        "  warnings.warn(msg)\n",
                        "Downloading: \"https://download.pytorch.org/models/resnet34-b627a593.pth\" to /Users/cybershiptrooper/.cache/torch/hub/checkpoints/resnet34-b627a593.pth\n",
                        "100%|██████████| 83.3M/83.3M [00:02<00:00, 38.5MB/s]\n"
                    ]
                },
                {
                    "data": {
                        "application/vnd.jupyter.widget-view+json": {
                            "model_id": "ad869b6478354d2ba8f349ef1319428c",
                            "version_major": 2,
                            "version_minor": 0
                        },
                        "text/plain": [
                            "Epoch 0:   0%|          | 0/196 [00:00<?, ?it/s]"
                        ]
                    },
                    "metadata": {},
                    "output_type": "display_data"
                },
                {
                    "name": "stdout",
                    "output_type": "stream",
                    "text": [
                        "Epoch: 0, Train Loss: 0.6060207213978378, Test Loss: 0.7123264417052269, Train Acc: 0.79472, Test Acc: 0.7592\n"
                    ]
                },
                {
                    "data": {
                        "application/vnd.jupyter.widget-view+json": {
                            "model_id": "5ec0ab6981614ac5a77ace418532a834",
                            "version_major": 2,
                            "version_minor": 0
                        },
                        "text/plain": [
                            "Epoch 1:   0%|          | 0/196 [00:00<?, ?it/s]"
                        ]
                    },
                    "metadata": {},
                    "output_type": "display_data"
                },
                {
                    "name": "stdout",
                    "output_type": "stream",
                    "text": [
                        "Epoch: 1, Train Loss: 0.40824913826523995, Test Loss: 0.6057106383144856, Train Acc: 0.86058, Test Acc: 0.791\n"
                    ]
                },
                {
                    "data": {
                        "application/vnd.jupyter.widget-view+json": {
                            "model_id": "6036cbebafe04ff5912978ba765fed06",
                            "version_major": 2,
                            "version_minor": 0
                        },
                        "text/plain": [
                            "Epoch 2:   0%|          | 0/196 [00:00<?, ?it/s]"
                        ]
                    },
                    "metadata": {},
                    "output_type": "display_data"
                },
                {
                    "name": "stdout",
                    "output_type": "stream",
                    "text": [
                        "Epoch: 2, Train Loss: 0.28530107119253706, Test Loss: 0.5924619920551777, Train Acc: 0.90656, Test Acc: 0.8051\n"
                    ]
                },
                {
                    "data": {
                        "application/vnd.jupyter.widget-view+json": {
                            "model_id": "366a33c1337041b18d9501ff52a6600a",
                            "version_major": 2,
                            "version_minor": 0
                        },
                        "text/plain": [
                            "Epoch 3:   0%|          | 0/196 [00:00<?, ?it/s]"
                        ]
                    },
                    "metadata": {},
                    "output_type": "display_data"
                },
                {
                    "name": "stdout",
                    "output_type": "stream",
                    "text": [
                        "Epoch: 3, Train Loss: 0.2041020272489713, Test Loss: 0.6322708673775196, Train Acc: 0.93142, Test Acc: 0.8089\n"
                    ]
                },
                {
                    "data": {
                        "application/vnd.jupyter.widget-view+json": {
                            "model_id": "966d8c3f46f14e9da37731309349df28",
                            "version_major": 2,
                            "version_minor": 0
                        },
                        "text/plain": [
                            "Epoch 4:   0%|          | 0/196 [00:00<?, ?it/s]"
                        ]
                    },
                    "metadata": {},
                    "output_type": "display_data"
                },
                {
                    "name": "stdout",
                    "output_type": "stream",
                    "text": [
                        "Epoch: 4, Train Loss: 0.11589642758576238, Test Loss: 0.6758613124489784, Train Acc: 0.96134, Test Acc: 0.8201\n"
                    ]
                },
                {
                    "data": {
                        "application/vnd.jupyter.widget-view+json": {
                            "model_id": "d1c1f96ad7054739af51ab87c480ddba",
                            "version_major": 2,
                            "version_minor": 0
                        },
                        "text/plain": [
                            "Epoch 5:   0%|          | 0/196 [00:00<?, ?it/s]"
                        ]
                    },
                    "metadata": {},
                    "output_type": "display_data"
                },
                {
                    "name": "stdout",
                    "output_type": "stream",
                    "text": [
                        "Epoch: 5, Train Loss: 0.11310880669221586, Test Loss: 0.7192715801298618, Train Acc: 0.9625, Test Acc: 0.8151\n"
                    ]
                },
                {
                    "data": {
                        "application/vnd.jupyter.widget-view+json": {
                            "model_id": "38b32c3c20ad42ef92821e2102e2456f",
                            "version_major": 2,
                            "version_minor": 0
                        },
                        "text/plain": [
                            "Epoch 6:   0%|          | 0/196 [00:00<?, ?it/s]"
                        ]
                    },
                    "metadata": {},
                    "output_type": "display_data"
                },
                {
                    "name": "stdout",
                    "output_type": "stream",
                    "text": [
                        "Epoch: 6, Train Loss: 0.07680603426558022, Test Loss: 0.7433368355035782, Train Acc: 0.97416, Test Acc: 0.8188\n"
                    ]
                },
                {
                    "data": {
                        "application/vnd.jupyter.widget-view+json": {
                            "model_id": "29991c8ee6314a8198eccc81307a019c",
                            "version_major": 2,
                            "version_minor": 0
                        },
                        "text/plain": [
                            "Epoch 7:   0%|          | 0/196 [00:00<?, ?it/s]"
                        ]
                    },
                    "metadata": {},
                    "output_type": "display_data"
                },
                {
                    "name": "stdout",
                    "output_type": "stream",
                    "text": [
                        "Epoch: 7, Train Loss: 0.07336558956576854, Test Loss: 0.8094222605228424, Train Acc: 0.97514, Test Acc: 0.8131\n"
                    ]
                },
                {
                    "data": {
                        "application/vnd.jupyter.widget-view+json": {
                            "model_id": "462e478e2821405da81aeaa990023014",
                            "version_major": 2,
                            "version_minor": 0
                        },
                        "text/plain": [
                            "Epoch 8:   0%|          | 0/196 [00:00<?, ?it/s]"
                        ]
                    },
                    "metadata": {},
                    "output_type": "display_data"
                },
                {
                    "name": "stdout",
                    "output_type": "stream",
                    "text": [
                        "Epoch: 8, Train Loss: 0.06622195718049699, Test Loss: 0.8663751438260079, Train Acc: 0.97732, Test Acc: 0.8119\n"
                    ]
                },
                {
                    "data": {
                        "application/vnd.jupyter.widget-view+json": {
                            "model_id": "e9cd7cb185784119957fc0e18e42626f",
                            "version_major": 2,
                            "version_minor": 0
                        },
                        "text/plain": [
                            "Epoch 9:   0%|          | 0/196 [00:00<?, ?it/s]"
                        ]
                    },
                    "metadata": {},
                    "output_type": "display_data"
                },
                {
                    "name": "stdout",
                    "output_type": "stream",
                    "text": [
                        "Epoch: 9, Train Loss: 0.037803933233478845, Test Loss: 0.8280440777540207, Train Acc: 0.9879, Test Acc: 0.8234\n"
                    ]
                },
                {
                    "data": {
                        "image/png": "[encoded data removed]",
                        "text/plain": [
                            "<Figure size 432x288 with 1 Axes>"
                        ]
                    },
                    "metadata": {
                        "needs_background": "light"
                    },
                    "output_type": "display_data"
                },
                {
                    "data": {
                        "image/png": "[encoded data removed]",
                        "text/plain": [
                            "<Figure size 432x288 with 1 Axes>"
                        ]
                    },
                    "metadata": {
                        "needs_background": "light"
                    },
                    "output_type": "display_data"
                },
                {
                    "name": "stdout",
                    "output_type": "stream",
                    "text": [
                        "21.888359534637104\n",
                        "49.69124932111749\n",
                        "-6.914689623993903\n",
                        "-------------------- ResNet50 --------------------\n"
                    ]
                },
                {
                    "name": "stderr",
                    "output_type": "stream",
                    "text": [
                        "/Users/cybershiptrooper/miniconda3/envs/devinterp/lib/python3.10/site-packages/torchvision/models/_utils.py:208: UserWarning: The parameter 'pretrained' is deprecated since 0.13 and may be removed in the future, please use 'weights' instead.\n",
                        "  warnings.warn(\n",
                        "/Users/cybershiptrooper/miniconda3/envs/devinterp/lib/python3.10/site-packages/torchvision/models/_utils.py:223: UserWarning: Arguments other than a weight enum or `None` for 'weights' are deprecated since 0.13 and may be removed in the future. The current behavior is equivalent to passing `weights=ResNet50_Weights.IMAGENET1K_V1`. You can also use `weights=ResNet50_Weights.DEFAULT` to get the most up-to-date weights.\n",
                        "  warnings.warn(msg)\n",
                        "Downloading: \"https://download.pytorch.org/models/resnet50-0676ba61.pth\" to /Users/cybershiptrooper/.cache/torch/hub/checkpoints/resnet50-0676ba61.pth\n",
                        "100%|██████████| 97.8M/97.8M [00:02<00:00, 36.3MB/s]\n"
                    ]
                },
                {
                    "data": {
                        "application/vnd.jupyter.widget-view+json": {
                            "model_id": "e7d26eb3b1b34af8833e4aa39a488cf9",
                            "version_major": 2,
                            "version_minor": 0
                        },
                        "text/plain": [
                            "Epoch 0:   0%|          | 0/196 [00:00<?, ?it/s]"
                        ]
                    },
                    "metadata": {},
                    "output_type": "display_data"
                },
                {
                    "name": "stdout",
                    "output_type": "stream",
                    "text": [
                        "Epoch: 0, Train Loss: 0.5504924676248005, Test Loss: 0.6696001514792442, Train Acc: 0.81256, Test Acc: 0.7705\n"
                    ]
                },
                {
                    "data": {
                        "application/vnd.jupyter.widget-view+json": {
                            "model_id": "cba735fd074e4235b8490b3b99ea9553",
                            "version_major": 2,
                            "version_minor": 0
                        },
                        "text/plain": [
                            "Epoch 1:   0%|          | 0/196 [00:00<?, ?it/s]"
                        ]
                    },
                    "metadata": {},
                    "output_type": "display_data"
                },
                {
                    "name": "stdout",
                    "output_type": "stream",
                    "text": [
                        "Epoch: 1, Train Loss: 0.31945859131460286, Test Loss: 0.5624639101326465, Train Acc: 0.89322, Test Acc: 0.8049\n"
                    ]
                },
                {
                    "data": {
                        "application/vnd.jupyter.widget-view+json": {
                            "model_id": "6419d13129624cd1885c60f40beb5839",
                            "version_major": 2,
                            "version_minor": 0
                        },
                        "text/plain": [
                            "Epoch 2:   0%|          | 0/196 [00:00<?, ?it/s]"
                        ]
                    },
                    "metadata": {},
                    "output_type": "display_data"
                },
                {
                    "name": "stdout",
                    "output_type": "stream",
                    "text": [
                        "Epoch: 2, Train Loss: 0.19455128056662424, Test Loss: 0.5400005087256432, Train Acc: 0.93766, Test Acc: 0.8221\n"
                    ]
                },
                {
                    "data": {
                        "application/vnd.jupyter.widget-view+json": {
                            "model_id": "9c6b3599015d4ae5aad54849e0c06365",
                            "version_major": 2,
                            "version_minor": 0
                        },
                        "text/plain": [
                            "Epoch 3:   0%|          | 0/196 [00:00<?, ?it/s]"
                        ]
                    },
                    "metadata": {},
                    "output_type": "display_data"
                },
                {
                    "name": "stdout",
                    "output_type": "stream",
                    "text": [
                        "Epoch: 3, Train Loss: 0.11099934121783898, Test Loss: 0.6032850600779056, Train Acc: 0.96566, Test Acc: 0.8204\n"
                    ]
                },
                {
                    "data": {
                        "application/vnd.jupyter.widget-view+json": {
                            "model_id": "50cabc21e1c0470983952ad5026febcd",
                            "version_major": 2,
                            "version_minor": 0
                        },
                        "text/plain": [
                            "Epoch 4:   0%|          | 0/196 [00:00<?, ?it/s]"
                        ]
                    },
                    "metadata": {},
                    "output_type": "display_data"
                },
                {
                    "name": "stdout",
                    "output_type": "stream",
                    "text": [
                        "Epoch: 4, Train Loss: 0.08767885055240927, Test Loss: 0.6524728968739509, Train Acc: 0.97086, Test Acc: 0.8219\n"
                    ]
                },
                {
                    "data": {
                        "application/vnd.jupyter.widget-view+json": {
                            "model_id": "4f4dfdbdfa6a46ad8ed8b13c162518c9",
                            "version_major": 2,
                            "version_minor": 0
                        },
                        "text/plain": [
                            "Epoch 5:   0%|          | 0/196 [00:00<?, ?it/s]"
                        ]
                    },
                    "metadata": {},
                    "output_type": "display_data"
                },
                {
                    "name": "stdout",
                    "output_type": "stream",
                    "text": [
                        "Epoch: 5, Train Loss: 0.08019959698526227, Test Loss: 0.6942960165441037, Train Acc: 0.97242, Test Acc: 0.8275\n"
                    ]
                },
                {
                    "data": {
                        "application/vnd.jupyter.widget-view+json": {
                            "model_id": "afb941f9ad554d06bf492079628da924",
                            "version_major": 2,
                            "version_minor": 0
                        },
                        "text/plain": [
                            "Epoch 6:   0%|          | 0/196 [00:00<?, ?it/s]"
                        ]
                    },
                    "metadata": {},
                    "output_type": "display_data"
                },
                {
                    "name": "stdout",
                    "output_type": "stream",
                    "text": [
                        "Epoch: 6, Train Loss: 0.06332761096787087, Test Loss: 0.7305641591548919, Train Acc: 0.9789, Test Acc: 0.8242\n"
                    ]
                },
                {
                    "data": {
                        "application/vnd.jupyter.widget-view+json": {
                            "model_id": "068357cc09344db0a71da8f1e510a8f1",
                            "version_major": 2,
                            "version_minor": 0
                        },
                        "text/plain": [
                            "Epoch 7:   0%|          | 0/196 [00:00<?, ?it/s]"
                        ]
                    },
                    "metadata": {},
                    "output_type": "display_data"
                },
                {
                    "name": "stdout",
                    "output_type": "stream",
                    "text": [
                        "Epoch: 7, Train Loss: 0.0471564192201334, Test Loss: 0.741695086658001, Train Acc: 0.98406, Test Acc: 0.8237\n"
                    ]
                },
                {
                    "data": {
                        "application/vnd.jupyter.widget-view+json": {
                            "model_id": "eabc8ab2f7554aa0a4c96c0128b414f9",
                            "version_major": 2,
                            "version_minor": 0
                        },
                        "text/plain": [
                            "Epoch 8:   0%|          | 0/196 [00:00<?, ?it/s]"
                        ]
                    },
                    "metadata": {},
                    "output_type": "display_data"
                },
                {
                    "name": "stdout",
                    "output_type": "stream",
                    "text": [
                        "Epoch: 8, Train Loss: 0.03501116565181589, Test Loss: 0.8051393747329711, Train Acc: 0.98844, Test Acc: 0.8291\n"
                    ]
                },
                {
                    "data": {
                        "application/vnd.jupyter.widget-view+json": {
                            "model_id": "b09f1758bd764f8ab352519e9eac5e61",
                            "version_major": 2,
                            "version_minor": 0
                        },
                        "text/plain": [
                            "Epoch 9:   0%|          | 0/196 [00:00<?, ?it/s]"
                        ]
                    },
                    "metadata": {},
                    "output_type": "display_data"
                },
                {
                    "name": "stdout",
                    "output_type": "stream",
                    "text": [
                        "Epoch: 9, Train Loss: 0.025594835435705527, Test Loss: 0.7612130239605903, Train Acc: 0.99184, Test Acc: 0.8356\n"
                    ]
                },
                {
                    "data": {
                        "image/png": "[encoded data removed]",
                        "text/plain": [
                            "<Figure size 432x288 with 1 Axes>"
                        ]
                    },
                    "metadata": {
                        "needs_background": "light"
                    },
                    "output_type": "display_data"
                },
                {
                    "data": {
                        "image/png": "[encoded data removed]",
                        "text/plain": [
                            "<Figure size 432x288 with 1 Axes>"
                        ]
                    },
                    "metadata": {
                        "needs_background": "light"
                    },
                    "output_type": "display_data"
                },
                {
                    "name": "stdout",
                    "output_type": "stream",
                    "text": [
                        "76.83581598083367\n",
                        "69.76173667156442\n",
                        "-16.050895940096794\n",
                        "-------------------- ResNet101 --------------------\n"
                    ]
                },
                {
                    "name": "stderr",
                    "output_type": "stream",
                    "text": [
                        "/Users/cybershiptrooper/miniconda3/envs/devinterp/lib/python3.10/site-packages/torchvision/models/_utils.py:208: UserWarning: The parameter 'pretrained' is deprecated since 0.13 and may be removed in the future, please use 'weights' instead.\n",
                        "  warnings.warn(\n",
                        "/Users/cybershiptrooper/miniconda3/envs/devinterp/lib/python3.10/site-packages/torchvision/models/_utils.py:223: UserWarning: Arguments other than a weight enum or `None` for 'weights' are deprecated since 0.13 and may be removed in the future. The current behavior is equivalent to passing `weights=ResNet101_Weights.IMAGENET1K_V1`. You can also use `weights=ResNet101_Weights.DEFAULT` to get the most up-to-date weights.\n",
                        "  warnings.warn(msg)\n",
                        "Downloading: \"https://download.pytorch.org/models/resnet101-63fe2227.pth\" to /Users/cybershiptrooper/.cache/torch/hub/checkpoints/resnet101-63fe2227.pth\n",
                        "100%|██████████| 171M/171M [00:04<00:00, 38.6MB/s] \n"
                    ]
                },
                {
                    "data": {
                        "application/vnd.jupyter.widget-view+json": {
                            "model_id": "23763fadc671487794110c0c84df8d20",
                            "version_major": 2,
                            "version_minor": 0
                        },
                        "text/plain": [
                            "Epoch 0:   0%|          | 0/196 [00:00<?, ?it/s]"
                        ]
                    },
                    "metadata": {},
                    "output_type": "display_data"
                },
                {
                    "name": "stdout",
                    "output_type": "stream",
                    "text": [
                        "Epoch: 0, Train Loss: 0.6015549162212683, Test Loss: 0.7264746755361557, Train Acc: 0.79228, Test Acc: 0.75\n"
                    ]
                },
                {
                    "data": {
                        "application/vnd.jupyter.widget-view+json": {
                            "model_id": "acd8fbd55d0946f19a7545ffcabe74d6",
                            "version_major": 2,
                            "version_minor": 0
                        },
                        "text/plain": [
                            "Epoch 1:   0%|          | 0/196 [00:00<?, ?it/s]"
                        ]
                    },
                    "metadata": {},
                    "output_type": "display_data"
                },
                {
                    "name": "stdout",
                    "output_type": "stream",
                    "text": [
                        "Epoch: 1, Train Loss: 0.3451727730583172, Test Loss: 0.584101215004921, Train Acc: 0.88646, Test Acc: 0.7985\n"
                    ]
                },
                {
                    "data": {
                        "application/vnd.jupyter.widget-view+json": {
                            "model_id": "684b8892d46e4ba48697a1c26f67f50d",
                            "version_major": 2,
                            "version_minor": 0
                        },
                        "text/plain": [
                            "Epoch 2:   0%|          | 0/196 [00:00<?, ?it/s]"
                        ]
                    },
                    "metadata": {},
                    "output_type": "display_data"
                },
                {
                    "name": "stdout",
                    "output_type": "stream",
                    "text": [
                        "Epoch: 2, Train Loss: 0.21264356587614333, Test Loss: 0.6121346473693847, Train Acc: 0.93298, Test Acc: 0.8016\n"
                    ]
                },
                {
                    "data": {
                        "application/vnd.jupyter.widget-view+json": {
                            "model_id": "20ddf49fc78e47edad8e563adb017fe3",
                            "version_major": 2,
                            "version_minor": 0
                        },
                        "text/plain": [
                            "Epoch 3:   0%|          | 0/196 [00:00<?, ?it/s]"
                        ]
                    },
                    "metadata": {},
                    "output_type": "display_data"
                },
                {
                    "name": "stdout",
                    "output_type": "stream",
                    "text": [
                        "Epoch: 3, Train Loss: 0.14320148223516893, Test Loss: 0.6769061751663685, Train Acc: 0.95212, Test Acc: 0.8031\n"
                    ]
                },
                {
                    "data": {
                        "application/vnd.jupyter.widget-view+json": {
                            "model_id": "afbb764963e54b02b79e22b6f4f4053c",
                            "version_major": 2,
                            "version_minor": 0
                        },
                        "text/plain": [
                            "Epoch 4:   0%|          | 0/196 [00:00<?, ?it/s]"
                        ]
                    },
                    "metadata": {},
                    "output_type": "display_data"
                },
                {
                    "name": "stdout",
                    "output_type": "stream",
                    "text": [
                        "Epoch: 4, Train Loss: 0.09754675588741595, Test Loss: 0.7243746653199196, Train Acc: 0.9671, Test Acc: 0.8075\n"
                    ]
                },
                {
                    "data": {
                        "application/vnd.jupyter.widget-view+json": {
                            "model_id": "0f7b4d934c6a468e97c16554b005eae0",
                            "version_major": 2,
                            "version_minor": 0
                        },
                        "text/plain": [
                            "Epoch 5:   0%|          | 0/196 [00:00<?, ?it/s]"
                        ]
                    },
                    "metadata": {},
                    "output_type": "display_data"
                },
                {
                    "name": "stdout",
                    "output_type": "stream",
                    "text": [
                        "Epoch: 5, Train Loss: 0.059706325262632906, Test Loss: 0.7546941548585892, Train Acc: 0.9808, Test Acc: 0.8113\n"
                    ]
                },
                {
                    "data": {
                        "application/vnd.jupyter.widget-view+json": {
                            "model_id": "0fa0f7dc1a2f4211a4b9f3968d53fb00",
                            "version_major": 2,
                            "version_minor": 0
                        },
                        "text/plain": [
                            "Epoch 6:   0%|          | 0/196 [00:00<?, ?it/s]"
                        ]
                    },
                    "metadata": {},
                    "output_type": "display_data"
                },
                {
                    "name": "stdout",
                    "output_type": "stream",
                    "text": [
                        "Epoch: 6, Train Loss: 0.05784321064129472, Test Loss: 0.7928735233843327, Train Acc: 0.98044, Test Acc: 0.8112\n"
                    ]
                },
                {
                    "data": {
                        "application/vnd.jupyter.widget-view+json": {
                            "model_id": "6add8abfbddb41538d772bfb156c8af8",
                            "version_major": 2,
                            "version_minor": 0
                        },
                        "text/plain": [
                            "Epoch 7:   0%|          | 0/196 [00:00<?, ?it/s]"
                        ]
                    },
                    "metadata": {},
                    "output_type": "display_data"
                },
                {
                    "name": "stdout",
                    "output_type": "stream",
                    "text": [
                        "Epoch: 7, Train Loss: 0.036769643929615924, Test Loss: 0.8011051177978515, Train Acc: 0.98784, Test Acc: 0.822\n"
                    ]
                },
                {
                    "data": {
                        "application/vnd.jupyter.widget-view+json": {
                            "model_id": "4f31e87f1e714a96b5a634cb0875b56c",
                            "version_major": 2,
                            "version_minor": 0
                        },
                        "text/plain": [
                            "Epoch 8:   0%|          | 0/196 [00:00<?, ?it/s]"
                        ]
                    },
                    "metadata": {},
                    "output_type": "display_data"
                },
                {
                    "name": "stdout",
                    "output_type": "stream",
                    "text": [
                        "Epoch: 8, Train Loss: 0.02402701148791809, Test Loss: 0.8194255709648133, Train Acc: 0.9927, Test Acc: 0.8215\n"
                    ]
                },
                {
                    "data": {
                        "application/vnd.jupyter.widget-view+json": {
                            "model_id": "493377155b2c404fad8c51611a817f72",
                            "version_major": 2,
                            "version_minor": 0
                        },
                        "text/plain": [
                            "Epoch 9:   0%|          | 0/196 [00:00<?, ?it/s]"
                        ]
                    },
                    "metadata": {},
                    "output_type": "display_data"
                },
                {
                    "name": "stdout",
                    "output_type": "stream",
                    "text": [
                        "Epoch: 9, Train Loss: 0.01902599687859112, Test Loss: 0.8688971266150475, Train Acc: 0.99438, Test Acc: 0.8243\n"
                    ]
                },
                {
                    "data": {
                        "image/png": "[encoded data removed]",
                        "text/plain": [
                            "<Figure size 432x288 with 1 Axes>"
                        ]
                    },
                    "metadata": {
                        "needs_background": "light"
                    },
                    "output_type": "display_data"
                },
                {
                    "data": {
                        "image/png": "[encoded data removed]",
                        "text/plain": [
                            "<Figure size 432x288 with 1 Axes>"
                        ]
                    },
                    "metadata": {
                        "needs_background": "light"
                    },
                    "output_type": "display_data"
                },
                {
                    "name": "stdout",
                    "output_type": "stream",
                    "text": [
                        "-99.60843722237817\n",
                        "-87.69883044155819\n",
                        "36.41885886621453\n",
                        "-------------------- ResNet152 --------------------\n"
                    ]
                },
                {
                    "name": "stderr",
                    "output_type": "stream",
                    "text": [
                        "/Users/cybershiptrooper/miniconda3/envs/devinterp/lib/python3.10/site-packages/torchvision/models/_utils.py:208: UserWarning: The parameter 'pretrained' is deprecated since 0.13 and may be removed in the future, please use 'weights' instead.\n",
                        "  warnings.warn(\n",
                        "/Users/cybershiptrooper/miniconda3/envs/devinterp/lib/python3.10/site-packages/torchvision/models/_utils.py:223: UserWarning: Arguments other than a weight enum or `None` for 'weights' are deprecated since 0.13 and may be removed in the future. The current behavior is equivalent to passing `weights=ResNet152_Weights.IMAGENET1K_V1`. You can also use `weights=ResNet152_Weights.DEFAULT` to get the most up-to-date weights.\n",
                        "  warnings.warn(msg)\n",
                        "Downloading: \"https://download.pytorch.org/models/resnet152-394f9c45.pth\" to /Users/cybershiptrooper/.cache/torch/hub/checkpoints/resnet152-394f9c45.pth\n",
                        "100%|██████████| 230M/230M [00:06<00:00, 38.1MB/s] \n"
                    ]
                },
                {
                    "data": {
                        "application/vnd.jupyter.widget-view+json": {
                            "model_id": "af29263d6dd140c781e17331a39e9993",
                            "version_major": 2,
                            "version_minor": 0
                        },
                        "text/plain": [
                            "Epoch 0:   0%|          | 0/196 [00:00<?, ?it/s]"
                        ]
                    },
                    "metadata": {},
                    "output_type": "display_data"
                },
                {
                    "name": "stdout",
                    "output_type": "stream",
                    "text": [
                        "Epoch: 0, Train Loss: 0.7532236396658177, Test Loss: 0.8431569963693619, Train Acc: 0.74, Test Acc: 0.7095\n"
                    ]
                },
                {
                    "data": {
                        "application/vnd.jupyter.widget-view+json": {
                            "model_id": "f0c093bf21ac42bca9e56a385fcb88ec",
                            "version_major": 2,
                            "version_minor": 0
                        },
                        "text/plain": [
                            "Epoch 1:   0%|          | 0/196 [00:00<?, ?it/s]"
                        ]
                    },
                    "metadata": {},
                    "output_type": "display_data"
                },
                {
                    "name": "stdout",
                    "output_type": "stream",
                    "text": [
                        "Epoch: 1, Train Loss: 0.4464089523772804, Test Loss: 0.6659904107451439, Train Acc: 0.84978, Test Acc: 0.7712\n"
                    ]
                },
                {
                    "data": {
                        "application/vnd.jupyter.widget-view+json": {
                            "model_id": "cf5f1a177b894c2f98fa93e12eed0ce8",
                            "version_major": 2,
                            "version_minor": 0
                        },
                        "text/plain": [
                            "Epoch 2:   0%|          | 0/196 [00:00<?, ?it/s]"
                        ]
                    },
                    "metadata": {},
                    "output_type": "display_data"
                },
                {
                    "name": "stdout",
                    "output_type": "stream",
                    "text": [
                        "Epoch: 2, Train Loss: 0.3179428706667861, Test Loss: 0.6652980297803879, Train Acc: 0.8914, Test Acc: 0.7812\n"
                    ]
                },
                {
                    "data": {
                        "application/vnd.jupyter.widget-view+json": {
                            "model_id": "f306599f787b499e9e8b73180ef53457",
                            "version_major": 2,
                            "version_minor": 0
                        },
                        "text/plain": [
                            "Epoch 3:   0%|          | 0/196 [00:00<?, ?it/s]"
                        ]
                    },
                    "metadata": {},
                    "output_type": "display_data"
                },
                {
                    "name": "stdout",
                    "output_type": "stream",
                    "text": [
                        "Epoch: 3, Train Loss: 0.16931664126411994, Test Loss: 0.6502638265490532, Train Acc: 0.94724, Test Acc: 0.7985\n"
                    ]
                },
                {
                    "data": {
                        "application/vnd.jupyter.widget-view+json": {
                            "model_id": "4ba217e28bb84efbb7730880e98bd571",
                            "version_major": 2,
                            "version_minor": 0
                        },
                        "text/plain": [
                            "Epoch 4:   0%|          | 0/196 [00:00<?, ?it/s]"
                        ]
                    },
                    "metadata": {},
                    "output_type": "display_data"
                },
                {
                    "name": "stdout",
                    "output_type": "stream",
                    "text": [
                        "Epoch: 4, Train Loss: 0.16421285332465657, Test Loss: 0.7543136179447174, Train Acc: 0.94436, Test Acc: 0.7813\n"
                    ]
                },
                {
                    "data": {
                        "application/vnd.jupyter.widget-view+json": {
                            "model_id": "e2bdb531cfc344418c431433bc4e407f",
                            "version_major": 2,
                            "version_minor": 0
                        },
                        "text/plain": [
                            "Epoch 5:   0%|          | 0/196 [00:00<?, ?it/s]"
                        ]
                    },
                    "metadata": {},
                    "output_type": "display_data"
                },
                {
                    "name": "stdout",
                    "output_type": "stream",
                    "text": [
                        "Epoch: 5, Train Loss: 0.09371721885186068, Test Loss: 0.7659351095557213, Train Acc: 0.9689, Test Acc: 0.7915\n"
                    ]
                },
                {
                    "data": {
                        "application/vnd.jupyter.widget-view+json": {
                            "model_id": "aa96242aa60b442ab409934da0150846",
                            "version_major": 2,
                            "version_minor": 0
                        },
                        "text/plain": [
                            "Epoch 6:   0%|          | 0/196 [00:00<?, ?it/s]"
                        ]
                    },
                    "metadata": {},
                    "output_type": "display_data"
                },
                {
                    "name": "stdout",
                    "output_type": "stream",
                    "text": [
                        "Epoch: 6, Train Loss: 0.10265784708745017, Test Loss: 0.8060939222574234, Train Acc: 0.9648, Test Acc: 0.7939\n"
                    ]
                },
                {
                    "data": {
                        "application/vnd.jupyter.widget-view+json": {
                            "model_id": "ac5fcbda2e3e4f1ebf60c81337b9f6e4",
                            "version_major": 2,
                            "version_minor": 0
                        },
                        "text/plain": [
                            "Epoch 7:   0%|          | 0/196 [00:00<?, ?it/s]"
                        ]
                    },
                    "metadata": {},
                    "output_type": "display_data"
                },
                {
                    "name": "stdout",
                    "output_type": "stream",
                    "text": [
                        "Epoch: 7, Train Loss: 0.04221853469878587, Test Loss: 0.8282467976212502, Train Acc: 0.98604, Test Acc: 0.8047\n"
                    ]
                },
                {
                    "data": {
                        "application/vnd.jupyter.widget-view+json": {
                            "model_id": "aef5a77ca28749ba834632ef7f4a290e",
                            "version_major": 2,
                            "version_minor": 0
                        },
                        "text/plain": [
                            "Epoch 8:   0%|          | 0/196 [00:00<?, ?it/s]"
                        ]
                    },
                    "metadata": {},
                    "output_type": "display_data"
                },
                {
                    "name": "stdout",
                    "output_type": "stream",
                    "text": [
                        "Epoch: 8, Train Loss: 0.028534922544483324, Test Loss: 0.8783660531044006, Train Acc: 0.99118, Test Acc: 0.8065\n"
                    ]
                },
                {
                    "data": {
                        "application/vnd.jupyter.widget-view+json": {
                            "model_id": "fce34184af9849b797da6f0856973964",
                            "version_major": 2,
                            "version_minor": 0
                        },
                        "text/plain": [
                            "Epoch 9:   0%|          | 0/196 [00:00<?, ?it/s]"
                        ]
                    },
                    "metadata": {},
                    "output_type": "display_data"
                },
                {
                    "name": "stdout",
                    "output_type": "stream",
                    "text": [
                        "Epoch: 9, Train Loss: 0.027865518259872893, Test Loss: 0.906803734600544, Train Acc: 0.9905, Test Acc: 0.8117\n"
                    ]
                },
                {
                    "data": {
                        "image/png": "[encoded data removed]",
                        "text/plain": [
                            "<Figure size 432x288 with 1 Axes>"
                        ]
                    },
                    "metadata": {
                        "needs_background": "light"
                    },
                    "output_type": "display_data"
                },
                {
                    "data": {
                        "image/png": "[encoded data removed]",
                        "text/plain": [
                            "<Figure size 432x288 with 1 Axes>"
                        ]
                    },
                    "metadata": {
                        "needs_background": "light"
                    },
                    "output_type": "display_data"
                },
                {
                    "name": "stdout",
                    "output_type": "stream",
                    "text": [
                        "30.633915940398406\n",
                        "-8.197156556780584\n",
                        "8.29271662955813\n"
                    ]
                }
            ],
            "source": [
                "rlcts = []\n",
                "resnet_depths = [18, 34, 50, 101, 152]\n",
                "train_losses = []\n",
                "test_losses = []\n",
                "for num_layers in resnet_depths:\n",
                "    print(\"-\" * 20 + f\" ResNet{num_layers} \" + \"-\" * 20)\n",
                "    model_name = f\"resnet{num_layers}\"\n",
                "    model = getattr(torchvision.models, model_name)(pretrained=True).to(device)\n",
                "    checkpoint_folder = f\"../checkpoints/resnet-finetuned-cifar/\"\n",
                "    checkpoint_full_path = checkpoint_folder + f\"{model_name}.pt\"\n",
                "\n",
                "    if os.path.exists(checkpoint_full_path):\n",
                "        print(\"Loading from checkpoint\")\n",
                "        model.load_state_dict(torch.load(checkpoint_full_path))\n",
                "    else:\n",
                "        train_loss, test_loss, _, _ = finetune(model, trainloader=trainloader, testloader=testloader)\n",
                "        train_losses.append(train_loss)\n",
                "        test_losses.append(test_loss)\n",
                "        if not os.path.exists(checkpoint_folder):\n",
                "            os.makedirs(checkpoint_folder)\n",
                "        torch.save(model.state_dict(), checkpoint_full_path)\n",
                "\n",
                "    _rlcts = []\n",
                "    model.to(\"cpu\")\n",
                "    for i in range(3):\n",
                "        _rlct = estimate_learning_coeff(\n",
                "            model,\n",
                "            trainloader,\n",
                "            nn.CrossEntropyLoss(),\n",
                "            sampling_method=SGLD,\n",
                "            num_draws=100,\n",
                "            num_chains=3,\n",
                "            num_burnin_steps=0,\n",
                "            num_steps_bw_draws=1,\n",
                "            optimizer_kwargs={\"elasticity\": 100},\n",
                "            cores=None,\n",
                "            seed=None,\n",
                "            pbar=True,\n",
                "            device=\"cpu\",\n",
                "        )\n",
                "        _rlcts.append(_rlct)\n",
                "        print(_rlct)\n",
                "\n",
                "    rlcts.append(_rlcts)"
            ]
        },
        {
            "cell_type": "code",
            "execution_count": 19,
            "metadata": {},
            "outputs": [
                {
                    "data": {
                        "image/png": "[encoded data removed]",
                        "text/plain": [
                            "<Figure size 720x432 with 2 Axes>"
                        ]
                    },
                    "metadata": {},
                    "output_type": "display_data"
                }
            ],
            "source": [
                "sns.set()\n",
                "\n",
                "blue = sns.color_palette()[0]\n",
                "\n",
                "resnet_depths = [18, 34, 50, 101, 152]\n",
                "\n",
                "# Names for the different ResNet architectures\n",
                "arch_names = [\"ResNet18\", \"ResNet34\", \"ResNet50\", \"ResNet101\" , \"ResNet152\"]\n",
                "\n",
                "# Calculate means and standard deviations\n",
                "means = [np.mean(_rlcts) for _rlcts in rlcts]\n",
                "stds = [np.std(_rlcts) for _rlcts in rlcts]\n",
                "\n",
                "# Calculate error bounds\n",
                "lower_bounds = [mean - std for mean, std in zip(means, stds)]\n",
                "upper_bounds = [mean + std for mean, std in zip(means, stds)]\n",
                "\n",
                "# Create the plot\n",
                "plt.figure(figsize=(10, 6))\n",
                "\n",
                "# Plot the scatter points for the means\n",
                "plt.scatter(resnet_depths, means, color=blue, label=r\"Mean $\\hat\\lambda$\", zorder=2)\n",
                "\n",
                "# Plot the transparent area chart for the error bars\n",
                "plt.fill_between(\n",
                "    resnet_depths,\n",
                "    lower_bounds,\n",
                "    upper_bounds,\n",
                "    color=blue,\n",
                "    alpha=0.3,\n",
                "    label=r\"Std $\\hat\\lambda$\",\n",
                ")\n",
                "plt.xlabel(\"Depth\")\n",
                "plt.ylabel(r\"$\\hat\\lambda$\")\n",
                "plt.xticks(resnet_depths, arch_names)\n",
                "plt.grid(True, linestyle=\"--\", linewidth=0.5)\n",
                "\n",
                "# plot train/test loss using the following values\n",
                "if train_losses == [] or test_losses == []:\n",
                "    train_losses = [0.05407725289768102, 0.037803933233478845, 0.025594835435705527, 0.01902599687859112, 0.027865518259872893]\n",
                "    test_losses = [0.8687256649136543, 0.8280440777540207, 0.7612130239605903, 0.8688971266150475, 0.906803734600544]\n",
                "# plot\n",
                "ax2 = plt.twinx()\n",
                "ax2.plot(resnet_depths, train_losses, marker='o', label='Train Loss')\n",
                "ax2.plot(resnet_depths, test_losses, marker='o', label='Test Loss')\n",
                "ax2.set_ylabel('Loss')\n",
                "plt.legend()\n",
                "\n",
                "# Show the plot\n",
                "plt.show()"
            ]
        },
        {
            "cell_type": "code",
            "execution_count": null,
            "metadata": {},
            "outputs": [],
            "source": [
                "# Resnet18: Train Loss: 0.05407725289768102, Test Loss: 0.8687256649136543\n",
                "# Resnet34: Train Loss: 0.037803933233478845, Test Loss: 0.8280440777540207\n",
                "# Resnet50: Train Loss: 0.025594835435705527, Test Loss: 0.7612130239605903\n",
                "# Resnet101: Train Loss: 0.01902599687859112, Test Loss: 0.8688971266150475\n",
                "# Resnet152: Train Loss: 0.027865518259872893, Test Loss: 0.906803734600544"
            ]
        },
        {
            "cell_type": "code",
            "execution_count": 12,
            "metadata": {},
            "outputs": [
                {
                    "data": {
                        "text/plain": [
                            "[-43.93163280572629,\n",
                            " 21.554973077253564,\n",
                            " 43.51555223743376,\n",
                            " -50.29613626590728,\n",
                            " 10.243158671058652]"
                        ]
                    },
                    "execution_count": 12,
                    "metadata": {},
                    "output_type": "execute_result"
                }
            ],
            "source": [
                "means"
            ]
        },
        {
            "cell_type": "code",
            "execution_count": null,
            "metadata": {},
            "outputs": [],
            "source": []
        }
    ],
    "metadata": {
        "kernelspec": {
            "display_name": ".venv",
            "language": "python",
            "name": "python3"
        },
        "language_info": {
            "codemirror_mode": {
                "name": "ipython",
                "version": 3
            },
            "file_extension": ".py",
            "mimetype": "text/x-python",
            "name": "python",
            "nbconvert_exporter": "python",
            "pygments_lexer": "ipython3",
            "version": "3.10.13"
        },
        "orig_nbformat": 4
    },
    "nbformat": 4,
    "nbformat_minor": 2
}
