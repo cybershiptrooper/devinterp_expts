{
 "cells": [
  {
   "cell_type": "markdown",
   "metadata": {},
   "source": [
    "# CUDA vs CPU RLCT estimation\n",
    "\n",
    "[![Open In Colab](https://colab.research.google.com/assets/colab-badge.svg)](https://colab.research.google.com/github/timaeus-research/devinterp/blob/main/examples/cuda_benchmark.ipynb)\n",
    "\n",
    "This notebook measures how fast RLCT estimation is on CUDA vs on CPU. We check this using a standard normal crossing model."
   ]
  },
  {
   "cell_type": "code",
   "execution_count": 1,
   "metadata": {},
   "outputs": [
    {
     "name": "stdout",
     "output_type": "stream",
     "text": [
      "Requirement already satisfied: devinterp in /home/paperspace/devinterp/testvenv/lib/python3.9/site-packages (0.0.1)\n",
      "Requirement already satisfied: einops==0.6.1 in /home/paperspace/devinterp/testvenv/lib/python3.9/site-packages (from devinterp) (0.6.1)\n",
      "Requirement already satisfied: numpy==1.23.5 in /home/paperspace/devinterp/testvenv/lib/python3.9/site-packages (from devinterp) (1.23.5)\n",
      "Requirement already satisfied: jupyter-core==5.3.1 in /home/paperspace/devinterp/testvenv/lib/python3.9/site-packages (from devinterp) (5.3.1)\n",
      "Requirement already satisfied: torch==2.0.1 in /home/paperspace/devinterp/testvenv/lib/python3.9/site-packages (from devinterp) (2.0.1)\n",
      "Requirement already satisfied: torchtyping==0.1.4 in /home/paperspace/devinterp/testvenv/lib/python3.9/site-packages (from devinterp) (0.1.4)\n",
      "Requirement already satisfied: ipywidgets==8.0.7 in /home/paperspace/devinterp/testvenv/lib/python3.9/site-packages (from devinterp) (8.0.7)\n",
      "Requirement already satisfied: pandas==1.5.3 in /home/paperspace/devinterp/testvenv/lib/python3.9/site-packages (from devinterp) (1.5.3)\n",
      "Requirement already satisfied: tqdm==4.65.0 in /home/paperspace/devinterp/testvenv/lib/python3.9/site-packages (from devinterp) (4.65.0)\n",
      "Requirement already satisfied: jupyterlab-widgets==3.0.8 in /home/paperspace/devinterp/testvenv/lib/python3.9/site-packages (from devinterp) (3.0.8)\n",
      "Requirement already satisfied: ipykernel==5.5.6 in /home/paperspace/devinterp/testvenv/lib/python3.9/site-packages (from devinterp) (5.5.6)\n",
      "Requirement already satisfied: pydantic-core==2.4.0 in /home/paperspace/devinterp/testvenv/lib/python3.9/site-packages (from devinterp) (2.4.0)\n",
      "Requirement already satisfied: pydantic==2.1.1 in /home/paperspace/devinterp/testvenv/lib/python3.9/site-packages (from devinterp) (2.1.1)\n",
      "Requirement already satisfied: jupyter-client in /home/paperspace/devinterp/testvenv/lib/python3.9/site-packages (from ipykernel==5.5.6->devinterp) (8.3.1)\n",
      "Requirement already satisfied: ipython-genutils in /home/paperspace/devinterp/testvenv/lib/python3.9/site-packages (from ipykernel==5.5.6->devinterp) (0.2.0)\n",
      "Requirement already satisfied: ipython>=5.0.0 in /home/paperspace/devinterp/testvenv/lib/python3.9/site-packages (from ipykernel==5.5.6->devinterp) (8.16.1)\n",
      "Requirement already satisfied: traitlets>=4.1.0 in /home/paperspace/devinterp/testvenv/lib/python3.9/site-packages (from ipykernel==5.5.6->devinterp) (5.10.1)\n",
      "Requirement already satisfied: tornado>=4.2 in /home/paperspace/devinterp/testvenv/lib/python3.9/site-packages (from ipykernel==5.5.6->devinterp) (6.3.3)\n",
      "Requirement already satisfied: widgetsnbextension~=4.0.7 in /home/paperspace/devinterp/testvenv/lib/python3.9/site-packages (from ipywidgets==8.0.7->devinterp) (4.0.9)\n",
      "Requirement already satisfied: platformdirs>=2.5 in /home/paperspace/devinterp/testvenv/lib/python3.9/site-packages (from jupyter-core==5.3.1->devinterp) (3.10.0)\n",
      "Requirement already satisfied: pytz>=2020.1 in /home/paperspace/devinterp/testvenv/lib/python3.9/site-packages (from pandas==1.5.3->devinterp) (2023.3.post1)\n",
      "Requirement already satisfied: python-dateutil>=2.8.1 in /home/paperspace/devinterp/testvenv/lib/python3.9/site-packages (from pandas==1.5.3->devinterp) (2.8.2)\n",
      "Requirement already satisfied: typing-extensions>=4.6.1 in /home/paperspace/devinterp/testvenv/lib/python3.9/site-packages (from pydantic==2.1.1->devinterp) (4.8.0)\n",
      "Requirement already satisfied: annotated-types>=0.4.0 in /home/paperspace/devinterp/testvenv/lib/python3.9/site-packages (from pydantic==2.1.1->devinterp) (0.5.0)\n",
      "Requirement already satisfied: triton==2.0.0 in /home/paperspace/devinterp/testvenv/lib/python3.9/site-packages (from torch==2.0.1->devinterp) (2.0.0)\n",
      "Requirement already satisfied: nvidia-cuda-cupti-cu11==11.7.101 in /home/paperspace/devinterp/testvenv/lib/python3.9/site-packages (from torch==2.0.1->devinterp) (11.7.101)\n",
      "Requirement already satisfied: nvidia-cublas-cu11==11.10.3.66 in /home/paperspace/devinterp/testvenv/lib/python3.9/site-packages (from torch==2.0.1->devinterp) (11.10.3.66)\n",
      "Requirement already satisfied: jinja2 in /home/paperspace/devinterp/testvenv/lib/python3.9/site-packages (from torch==2.0.1->devinterp) (3.1.2)\n",
      "Requirement already satisfied: sympy in /home/paperspace/devinterp/testvenv/lib/python3.9/site-packages (from torch==2.0.1->devinterp) (1.12)\n",
      "Requirement already satisfied: nvidia-curand-cu11==10.2.10.91 in /home/paperspace/devinterp/testvenv/lib/python3.9/site-packages (from torch==2.0.1->devinterp) (10.2.10.91)\n",
      "Requirement already satisfied: nvidia-nccl-cu11==2.14.3 in /home/paperspace/devinterp/testvenv/lib/python3.9/site-packages (from torch==2.0.1->devinterp) (2.14.3)\n",
      "Requirement already satisfied: networkx in /home/paperspace/devinterp/testvenv/lib/python3.9/site-packages (from torch==2.0.1->devinterp) (3.1)\n",
      "Requirement already satisfied: nvidia-cudnn-cu11==8.5.0.96 in /home/paperspace/devinterp/testvenv/lib/python3.9/site-packages (from torch==2.0.1->devinterp) (8.5.0.96)\n",
      "Requirement already satisfied: nvidia-cufft-cu11==10.9.0.58 in /home/paperspace/devinterp/testvenv/lib/python3.9/site-packages (from torch==2.0.1->devinterp) (10.9.0.58)\n",
      "Requirement already satisfied: nvidia-cusolver-cu11==11.4.0.1 in /home/paperspace/devinterp/testvenv/lib/python3.9/site-packages (from torch==2.0.1->devinterp) (11.4.0.1)\n",
      "Requirement already satisfied: nvidia-cuda-runtime-cu11==11.7.99 in /home/paperspace/devinterp/testvenv/lib/python3.9/site-packages (from torch==2.0.1->devinterp) (11.7.99)\n",
      "Requirement already satisfied: nvidia-cusparse-cu11==11.7.4.91 in /home/paperspace/devinterp/testvenv/lib/python3.9/site-packages (from torch==2.0.1->devinterp) (11.7.4.91)\n",
      "Requirement already satisfied: filelock in /home/paperspace/devinterp/testvenv/lib/python3.9/site-packages (from torch==2.0.1->devinterp) (3.12.4)\n",
      "Requirement already satisfied: nvidia-nvtx-cu11==11.7.91 in /home/paperspace/devinterp/testvenv/lib/python3.9/site-packages (from torch==2.0.1->devinterp) (11.7.91)\n",
      "Requirement already satisfied: nvidia-cuda-nvrtc-cu11==11.7.99 in /home/paperspace/devinterp/testvenv/lib/python3.9/site-packages (from torch==2.0.1->devinterp) (11.7.99)\n",
      "Requirement already satisfied: typeguard>=2.11.1 in /home/paperspace/devinterp/testvenv/lib/python3.9/site-packages (from torchtyping==0.1.4->devinterp) (4.1.5)\n",
      "Requirement already satisfied: setuptools in /home/paperspace/devinterp/testvenv/lib/python3.9/site-packages (from nvidia-cublas-cu11==11.10.3.66->torch==2.0.1->devinterp) (58.1.0)\n",
      "Requirement already satisfied: wheel in /home/paperspace/devinterp/testvenv/lib/python3.9/site-packages (from nvidia-cublas-cu11==11.10.3.66->torch==2.0.1->devinterp) (0.41.2)\n",
      "Requirement already satisfied: cmake in /home/paperspace/devinterp/testvenv/lib/python3.9/site-packages (from triton==2.0.0->torch==2.0.1->devinterp) (3.27.6)\n",
      "Requirement already satisfied: lit in /home/paperspace/devinterp/testvenv/lib/python3.9/site-packages (from triton==2.0.0->torch==2.0.1->devinterp) (17.0.1)\n",
      "Requirement already satisfied: prompt-toolkit!=3.0.37,<3.1.0,>=3.0.30 in /home/paperspace/devinterp/testvenv/lib/python3.9/site-packages (from ipython>=5.0.0->ipykernel==5.5.6->devinterp) (3.0.39)\n",
      "Requirement already satisfied: pexpect>4.3 in /home/paperspace/devinterp/testvenv/lib/python3.9/site-packages (from ipython>=5.0.0->ipykernel==5.5.6->devinterp) (4.8.0)\n",
      "Requirement already satisfied: exceptiongroup in /home/paperspace/devinterp/testvenv/lib/python3.9/site-packages (from ipython>=5.0.0->ipykernel==5.5.6->devinterp) (1.1.3)\n",
      "Requirement already satisfied: jedi>=0.16 in /home/paperspace/devinterp/testvenv/lib/python3.9/site-packages (from ipython>=5.0.0->ipykernel==5.5.6->devinterp) (0.19.1)\n",
      "Requirement already satisfied: decorator in /home/paperspace/devinterp/testvenv/lib/python3.9/site-packages (from ipython>=5.0.0->ipykernel==5.5.6->devinterp) (5.1.1)\n",
      "Requirement already satisfied: pygments>=2.4.0 in /home/paperspace/devinterp/testvenv/lib/python3.9/site-packages (from ipython>=5.0.0->ipykernel==5.5.6->devinterp) (2.16.1)\n",
      "Requirement already satisfied: stack-data in /home/paperspace/devinterp/testvenv/lib/python3.9/site-packages (from ipython>=5.0.0->ipykernel==5.5.6->devinterp) (0.6.3)\n",
      "Requirement already satisfied: backcall in /home/paperspace/devinterp/testvenv/lib/python3.9/site-packages (from ipython>=5.0.0->ipykernel==5.5.6->devinterp) (0.2.0)\n",
      "Requirement already satisfied: matplotlib-inline in /home/paperspace/devinterp/testvenv/lib/python3.9/site-packages (from ipython>=5.0.0->ipykernel==5.5.6->devinterp) (0.1.6)\n",
      "Requirement already satisfied: pickleshare in /home/paperspace/devinterp/testvenv/lib/python3.9/site-packages (from ipython>=5.0.0->ipykernel==5.5.6->devinterp) (0.7.5)\n",
      "Requirement already satisfied: six>=1.5 in /home/paperspace/devinterp/testvenv/lib/python3.9/site-packages (from python-dateutil>=2.8.1->pandas==1.5.3->devinterp) (1.16.0)\n",
      "Requirement already satisfied: importlib-metadata>=3.6 in /home/paperspace/devinterp/testvenv/lib/python3.9/site-packages (from typeguard>=2.11.1->torchtyping==0.1.4->devinterp) (6.8.0)\n",
      "Requirement already satisfied: MarkupSafe>=2.0 in /home/paperspace/devinterp/testvenv/lib/python3.9/site-packages (from jinja2->torch==2.0.1->devinterp) (2.1.3)\n",
      "Requirement already satisfied: pyzmq>=23.0 in /home/paperspace/devinterp/testvenv/lib/python3.9/site-packages (from jupyter-client->ipykernel==5.5.6->devinterp) (25.1.1)\n",
      "Requirement already satisfied: mpmath>=0.19 in /home/paperspace/devinterp/testvenv/lib/python3.9/site-packages (from sympy->torch==2.0.1->devinterp) (1.3.0)\n",
      "Requirement already satisfied: zipp>=0.5 in /home/paperspace/devinterp/testvenv/lib/python3.9/site-packages (from importlib-metadata>=3.6->typeguard>=2.11.1->torchtyping==0.1.4->devinterp) (3.17.0)\n",
      "Requirement already satisfied: parso<0.9.0,>=0.8.3 in /home/paperspace/devinterp/testvenv/lib/python3.9/site-packages (from jedi>=0.16->ipython>=5.0.0->ipykernel==5.5.6->devinterp) (0.8.3)\n",
      "Requirement already satisfied: ptyprocess>=0.5 in /home/paperspace/devinterp/testvenv/lib/python3.9/site-packages (from pexpect>4.3->ipython>=5.0.0->ipykernel==5.5.6->devinterp) (0.7.0)\n",
      "Requirement already satisfied: wcwidth in /home/paperspace/devinterp/testvenv/lib/python3.9/site-packages (from prompt-toolkit!=3.0.37,<3.1.0,>=3.0.30->ipython>=5.0.0->ipykernel==5.5.6->devinterp) (0.2.8)\n",
      "Requirement already satisfied: asttokens>=2.1.0 in /home/paperspace/devinterp/testvenv/lib/python3.9/site-packages (from stack-data->ipython>=5.0.0->ipykernel==5.5.6->devinterp) (2.4.0)\n",
      "Requirement already satisfied: executing>=1.2.0 in /home/paperspace/devinterp/testvenv/lib/python3.9/site-packages (from stack-data->ipython>=5.0.0->ipykernel==5.5.6->devinterp) (2.0.0)\n",
      "Requirement already satisfied: pure-eval in /home/paperspace/devinterp/testvenv/lib/python3.9/site-packages (from stack-data->ipython>=5.0.0->ipykernel==5.5.6->devinterp) (0.2.2)\n",
      "\u001b[33mWARNING: You are using pip version 22.0.4; however, version 23.2.1 is available.\n",
      "You should consider upgrading via the '/home/paperspace/devinterp/testvenv/bin/python -m pip install --upgrade pip' command.\u001b[0m\u001b[33m\n",
      "\u001b[0mNote: you may need to restart the kernel to use updated packages.\n"
     ]
    }
   ],
   "source": [
    "%pip install devinterp "
   ]
  },
  {
   "cell_type": "code",
   "execution_count": 2,
   "metadata": {},
   "outputs": [],
   "source": [
    "from functools import partial\n",
    "import timeit\n",
    "\n",
    "import torch\n",
    "import torch.nn.functional as F\n",
    "from torch.utils.data import DataLoader, TensorDataset\n",
    "\n",
    "from devinterp.optim.sgld import SGLD\n",
    "from devinterp.slt import estimate_learning_coeff\n",
    "from devinterp.zoo.normal_crossing import PolyModel\n",
    "\n",
    "assert torch.cuda.is_available()"
   ]
  },
  {
   "cell_type": "code",
   "execution_count": 3,
   "metadata": {},
   "outputs": [
    {
     "name": "stdout",
     "output_type": "stream",
     "text": [
      "50000 samples on cuda, 1 cores/chains: 12.27s per estimate\n",
      "50000 samples on cpu, 1 cores/chains: 17.86s per estimate\n",
      "50000 samples on cuda, 4 cores/chains: 37.81s per estimate\n",
      "50000 samples on cpu, 4 cores/chains: 493.21s per estimate\n"
     ]
    }
   ],
   "source": [
    "sigma = 0.25\n",
    "lr = 0.0005\n",
    "criterion = F.mse_loss\n",
    "\n",
    "\n",
    "def timeit_rlct_estimation_wrapper(model, device, cores):\n",
    "    return estimate_learning_coeff(\n",
    "        model,\n",
    "        train_loader,\n",
    "        criterion=criterion,\n",
    "        optimizer_kwargs=dict(\n",
    "            lr=lr,\n",
    "            bounding_box_size=1.0,\n",
    "            num_samples=len(train_data),\n",
    "        ),\n",
    "        sampling_method=SGLD,\n",
    "        num_chains=cores,\n",
    "        num_draws=1_000,\n",
    "        num_burnin_steps=0,\n",
    "        num_steps_bw_draws=1,\n",
    "        verbose=False,\n",
    "        device=device,\n",
    "        cores=cores,\n",
    "    )\n",
    "\n",
    "\n",
    "num_train_samples = 50_000\n",
    "batch_size = num_train_samples\n",
    "x = torch.normal(0, 2, size=(num_train_samples,))\n",
    "y = sigma * torch.normal(0, 1, size=(num_train_samples,))\n",
    "train_data = TensorDataset(x, y)\n",
    "train_loader = DataLoader(train_data, batch_size=batch_size, shuffle=True)\n",
    "for cores in (1, 4):\n",
    "    for device in (\"cuda\", \"cpu\"):\n",
    "        powers = torch.tensor([1, 2], device=device)\n",
    "        model = PolyModel(powers)\n",
    "        w_true = torch.zeros_like(powers)\n",
    "        timeit_rlct_function = partial(timeit_rlct_estimation_wrapper, *(model, device, cores))\n",
    "        time_taken = timeit.timeit(timeit_rlct_function, number=5)\n",
    "        print(\n",
    "            f\"{num_train_samples} samples on {device}, {cores} cores/chains: {time_taken:.2f}s per estimate\"\n",
    "        )"
   ]
  }
 ],
 "metadata": {
  "kernelspec": {
   "display_name": ".venv",
   "language": "python",
   "name": "python3"
  },
  "language_info": {
   "codemirror_mode": {
    "name": "ipython",
    "version": 3
   },
   "file_extension": ".py",
   "mimetype": "text/x-python",
   "name": "python",
   "nbconvert_exporter": "python",
   "pygments_lexer": "ipython3",
   "version": "3.9.16"
  },
  "orig_nbformat": 4
 },
 "nbformat": 4,
 "nbformat_minor": 2
}
