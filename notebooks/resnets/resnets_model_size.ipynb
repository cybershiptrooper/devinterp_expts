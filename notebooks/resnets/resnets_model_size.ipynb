{
    "cells": [
        {
            "cell_type": "markdown",
            "metadata": {},
            "source": [
                "# Resnets\n",
                "\n",
                "[![Open In Colab](https://colab.research.google.com/assets/colab-badge.svg)](https://colab.research.google.com/github/timaeus-research/devinterp/blob/main/examples/resnets.ipynb)"
            ]
        },
        {
            "cell_type": "code",
            "execution_count": 2,
            "metadata": {},
            "outputs": [],
            "source": [
                "# %pip install devinterp matplotlib seaborn torchvision"
            ]
        },
        {
            "cell_type": "code",
            "execution_count": 3,
            "metadata": {},
            "outputs": [],
            "source": [
                "import os\n",
                "\n",
                "import matplotlib.pyplot as plt\n",
                "import numpy as np\n",
                "import seaborn as sns\n",
                "import torch\n",
                "from torch import optim, nn\n",
                "from torch.utils.data import DataLoader\n",
                "import torchvision\n",
                "from torchvision import datasets, transforms\n",
                "from tqdm.notebook import tqdm\n",
                "\n",
                "from devinterp.slt import estimate_learning_coeff\n",
                "from devinterp.optim import SGLD, SGNHT\n",
                "import copy\n",
                "\n",
                "device = torch.device(\"cuda\" if torch.cuda.is_available() else \"mps\" if torch.backends.mps.is_available()\n",
                "                       else \"cpu\")"
            ]
        },
        {
            "cell_type": "code",
            "execution_count": 4,
            "metadata": {},
            "outputs": [
                {
                    "name": "stdout",
                    "output_type": "stream",
                    "text": [
                        "Files already downloaded and verified\n",
                        "Files already downloaded and verified\n"
                    ]
                }
            ],
            "source": [
                "# Transform to imagenet format\n",
                "transform = transforms.Compose(\n",
                "    [\n",
                "        transforms.ToTensor(),\n",
                "        transforms.Normalize(mean=[0.485, 0.456, 0.406], std=[0.229, 0.244, 0.225]),\n",
                "    ]\n",
                ")\n",
                "\n",
                "trainset = datasets.CIFAR10(root=\"../data\", train=True, download=True, transform=transform)\n",
                "testset = datasets.CIFAR10(root=\"../data\", train=False, download=True, transform=transform)\n",
                "\n",
                "trainloader = DataLoader(trainset, batch_size=256, shuffle=True)\n",
                "testloader = DataLoader(testset, batch_size=256, shuffle=False)"
            ]
        },
        {
            "cell_type": "code",
            "execution_count": 5,
            "metadata": {},
            "outputs": [
                {
                    "name": "stderr",
                    "output_type": "stream",
                    "text": [
                        "/Users/cybershiptrooper/miniconda3/envs/devinterp/lib/python3.10/site-packages/torchvision/models/_utils.py:208: UserWarning: The parameter 'pretrained' is deprecated since 0.13 and may be removed in the future, please use 'weights' instead.\n",
                        "  warnings.warn(\n",
                        "/Users/cybershiptrooper/miniconda3/envs/devinterp/lib/python3.10/site-packages/torchvision/models/_utils.py:223: UserWarning: Arguments other than a weight enum or `None` for 'weights' are deprecated since 0.13 and may be removed in the future. The current behavior is equivalent to passing `weights=ResNet18_Weights.IMAGENET1K_V1`. You can also use `weights=ResNet18_Weights.DEFAULT` to get the most up-to-date weights.\n",
                        "  warnings.warn(msg)\n"
                    ]
                }
            ],
            "source": [
                "model = torchvision.models.resnet18(pretrained=True)\n",
                "model.fc = nn.Linear(model.fc.in_features, 10)\n",
                "model = model.to(device)\n",
                "\n",
                "\n",
                "def finetune(\n",
                "    model,\n",
                "    trainloader,\n",
                "    testloader,\n",
                "    lr=0.01,\n",
                "    momentum=0.9,\n",
                "    epochs=10,\n",
                "    epsilon=1e-4,\n",
                "    weight_decay=0.0,\n",
                "):\n",
                "    opt = optim.SGD(model.parameters(), lr=lr, momentum=momentum, weight_decay=weight_decay)\n",
                "    loss_fn = nn.CrossEntropyLoss()\n",
                "\n",
                "    train_loss_history = []\n",
                "    test_loss_history = []\n",
                "    train_acc_history = []\n",
                "    test_acc_history = []\n",
                "\n",
                "    epoch = 0\n",
                "    prev_train_loss = float(\"inf\")\n",
                "\n",
                "    while True:\n",
                "        # Train\n",
                "        model.train()\n",
                "        epoch_loss = 0.0\n",
                "        for x, y in tqdm(trainloader, desc=f\"Epoch {epoch}\", leave=False):\n",
                "            x, y = x.to(device), y.to(device)\n",
                "            opt.zero_grad()\n",
                "            loss = loss_fn(model(x), y)\n",
                "            loss.backward()\n",
                "            opt.step()\n",
                "            epoch_loss += loss.item()\n",
                "\n",
                "        # Eval on training set\n",
                "        model.eval()\n",
                "        with torch.no_grad():\n",
                "            total_train_loss = 0\n",
                "            total_train_correct = 0\n",
                "\n",
                "            for x, y in trainloader:\n",
                "                x, y = x.to(device), y.to(device)\n",
                "                output = model(x)\n",
                "\n",
                "                # print(x.shape, y.shape, output.shape, output, y)\n",
                "                loss = loss_fn(output, y)\n",
                "                total_train_loss += loss.item()\n",
                "                total_train_correct += (\n",
                "                    (output.max(dim=1).indices == y).sum().item()\n",
                "                )  # argmax doesn't work on MPS\n",
                "\n",
                "            avg_train_loss = total_train_loss / len(trainloader)\n",
                "            avg_train_acc = total_train_correct / len(trainset)\n",
                "            train_loss_history.append(avg_train_loss)\n",
                "            train_acc_history.append(avg_train_acc)\n",
                "\n",
                "            # Eval on test set\n",
                "            total_test_loss = 0\n",
                "            total_test_correct = 0\n",
                "\n",
                "            for x, y in testloader:\n",
                "                x, y = x.to(device), y.to(device)\n",
                "                output = model(x)\n",
                "                loss = loss_fn(output, y)\n",
                "                total_test_loss += loss.item()\n",
                "                total_test_correct += (output.max(dim=1).indices == y).sum().item()\n",
                "\n",
                "            avg_test_loss = total_test_loss / len(testloader)\n",
                "            avg_test_acc = total_test_correct / len(testset)\n",
                "            test_loss_history.append(avg_test_loss)\n",
                "            test_acc_history.append(avg_test_acc)\n",
                "\n",
                "            print(\n",
                "                f\"Epoch: {epoch}, Train Loss: {avg_train_loss}, Test Loss: {avg_test_loss}, Train Acc: {avg_train_acc}, Test Acc: {avg_test_acc}\"\n",
                "            )\n",
                "\n",
                "        # Check for convergence\n",
                "        if epsilon and abs(prev_train_loss - avg_train_loss) < epsilon:\n",
                "            break\n",
                "\n",
                "        if epochs is not None and epoch >= epochs - 1:\n",
                "            break\n",
                "\n",
                "        prev_train_loss = avg_train_loss\n",
                "        epoch += 1\n",
                "\n",
                "    # Plotting\n",
                "    plt.plot(train_loss_history, label=\"Train Loss\")\n",
                "    plt.plot(test_loss_history, label=\"Test Loss\")\n",
                "    plt.xlabel(\"Epoch\")\n",
                "    plt.ylabel(\"Loss\")\n",
                "    plt.yscale(\"log\")\n",
                "    plt.legend()\n",
                "    plt.show()\n",
                "\n",
                "    plt.plot(train_acc_history, label=\"Train Acc\")\n",
                "    plt.plot(test_acc_history, label=\"Test Acc\")\n",
                "    plt.xlabel(\"Epoch\")\n",
                "    plt.ylabel(\"Accuracy\")\n",
                "    plt.legend()\n",
                "    plt.show()\n",
                "    return train_loss_history[-1], test_loss_history[-1], train_acc_history[-1], test_acc_history[-1]\n",
                "\n",
                "\n",
                "# finetune(model, trainloader, testloader, lr=0.001, weight_decay=0.1, epsilon=0.001)"
            ]
        },
        {
            "cell_type": "code",
            "execution_count": 6,
            "metadata": {},
            "outputs": [],
            "source": [
                "# model.to(\"cpu\")\n",
                "# for i in range(10):\n",
                "#     rlct = estimate_learning_coeff(\n",
                "#         model,\n",
                "#         trainloader,\n",
                "#         nn.CrossEntropyLoss(),\n",
                "#         num_draws=10,\n",
                "#         num_chains=5,\n",
                "#         num_burnin_steps=0,\n",
                "#         num_steps_bw_draws=1,\n",
                "#         cores=None,\n",
                "#         seed=None,\n",
                "#         pbar=True,\n",
                "#         device=\"cpu\",\n",
                "#     )\n",
                "#     print(f\"Estimate {i}:\", rlct)\n",
                "\n",
                "# Estimate 0: -200.52435275003157\n",
                "# Estimate 1: 107.82833403799926\n",
                "# Estimate 2: 31.13896938114366\n",
                "# Estimate 3: -98.27718259087783\n",
                "# Estimate 4: -203.6544595089611\n",
                "# Estimate 5: 23.884764692915923\n",
                "# Estimate 6: 375.3692919112746\n",
                "# Estimate 7: 5.790665828074265\n",
                "# Estimate 8: 48.30361337157306\n",
                "# Estimate 9: 106.12441606781152"
            ]
        },
        {
            "cell_type": "code",
            "execution_count": 7,
            "metadata": {},
            "outputs": [
                {
                    "data": {
                        "text/plain": [
                            "50000"
                        ]
                    },
                    "execution_count": 7,
                    "metadata": {},
                    "output_type": "execute_result"
                }
            ],
            "source": [
                "len(trainloader.dataset)"
            ]
        },
        {
            "cell_type": "code",
            "execution_count": 9,
            "metadata": {},
            "outputs": [
                {
                    "name": "stdout",
                    "output_type": "stream",
                    "text": [
                        "-------------------- ResNet18 --------------------\n",
                        "Loading from checkpoint\n"
                    ]
                },
                {
                    "name": "stderr",
                    "output_type": "stream",
                    "text": [
                        "[Parallel(n_jobs=8)]: Using backend LokyBackend with 8 concurrent workers.\n",
                        "[Parallel(n_jobs=8)]: Done   3 out of   3 | elapsed: 10.6min finished\n",
                        "/Users/cybershiptrooper/miniconda3/envs/devinterp/lib/python3.10/site-packages/torchvision/models/_utils.py:223: UserWarning: Arguments other than a weight enum or `None` for 'weights' are deprecated since 0.13 and may be removed in the future. The current behavior is equivalent to passing `weights=ResNet34_Weights.IMAGENET1K_V1`. You can also use `weights=ResNet34_Weights.DEFAULT` to get the most up-to-date weights.\n",
                        "  warnings.warn(msg)\n"
                    ]
                },
                {
                    "name": "stdout",
                    "output_type": "stream",
                    "text": [
                        "[]\n",
                        "-------------------- ResNet34 --------------------\n",
                        "Loading from checkpoint\n"
                    ]
                },
                {
                    "name": "stderr",
                    "output_type": "stream",
                    "text": [
                        "[Parallel(n_jobs=8)]: Using backend LokyBackend with 8 concurrent workers.\n",
                        "[Parallel(n_jobs=8)]: Done   3 out of   3 | elapsed: 18.5min finished\n",
                        "/Users/cybershiptrooper/miniconda3/envs/devinterp/lib/python3.10/site-packages/torchvision/models/_utils.py:223: UserWarning: Arguments other than a weight enum or `None` for 'weights' are deprecated since 0.13 and may be removed in the future. The current behavior is equivalent to passing `weights=ResNet50_Weights.IMAGENET1K_V1`. You can also use `weights=ResNet50_Weights.DEFAULT` to get the most up-to-date weights.\n",
                        "  warnings.warn(msg)\n"
                    ]
                },
                {
                    "name": "stdout",
                    "output_type": "stream",
                    "text": [
                        "[[10.202799097903297, 166.26919566311932, -33.474281333688026]]\n",
                        "-------------------- ResNet50 --------------------\n",
                        "Loading from checkpoint\n"
                    ]
                },
                {
                    "name": "stderr",
                    "output_type": "stream",
                    "text": [
                        "[Parallel(n_jobs=8)]: Using backend LokyBackend with 8 concurrent workers.\n",
                        "[Parallel(n_jobs=8)]: Done   3 out of   3 | elapsed: 89.4min finished\n",
                        "/Users/cybershiptrooper/miniconda3/envs/devinterp/lib/python3.10/site-packages/torchvision/models/_utils.py:223: UserWarning: Arguments other than a weight enum or `None` for 'weights' are deprecated since 0.13 and may be removed in the future. The current behavior is equivalent to passing `weights=ResNet101_Weights.IMAGENET1K_V1`. You can also use `weights=ResNet101_Weights.DEFAULT` to get the most up-to-date weights.\n",
                        "  warnings.warn(msg)\n"
                    ]
                },
                {
                    "name": "stdout",
                    "output_type": "stream",
                    "text": [
                        "[[10.202799097903297, 166.26919566311932, -33.474281333688026], [-31.303050205089534, -22.628348643039978, -10.206411418139512]]\n",
                        "-------------------- ResNet101 --------------------\n",
                        "Loading from checkpoint\n"
                    ]
                },
                {
                    "name": "stderr",
                    "output_type": "stream",
                    "text": [
                        "[Parallel(n_jobs=8)]: Using backend LokyBackend with 8 concurrent workers.\n"
                    ]
                },
                {
                    "name": "stdout",
                    "output_type": "stream",
                    "text": [
                        "[[10.202799097903297, 166.26919566311932, -33.474281333688026], [-31.303050205089534, -22.628348643039978, -10.206411418139512], [-58.86499622337647, -5.151082580889814, 19.47011341495411]]\n"
                    ]
                },
                {
                    "name": "stderr",
                    "output_type": "stream",
                    "text": [
                        "[Parallel(n_jobs=8)]: Done   3 out of   3 | elapsed: 181.3min finished\n"
                    ]
                }
            ],
            "source": [
                "from joblib import Parallel, delayed\n",
                "\n",
                "rlcts = []\n",
                "resnet_depths = [18, 34, 50, 101]#, 152]\n",
                "train_losses = []\n",
                "test_losses = []\n",
                "num_runs = 3\n",
                "for num_layers in resnet_depths:\n",
                "    print(\"-\" * 20 + f\" ResNet{num_layers} \" + \"-\" * 20)\n",
                "    model_name = f\"resnet{num_layers}\"\n",
                "    model = getattr(torchvision.models, model_name)(pretrained=True).to(device)\n",
                "    checkpoint_folder = f\"../checkpoints/resnet-finetuned-cifar/\"\n",
                "    checkpoint_full_path = checkpoint_folder + f\"{model_name}.pt\"\n",
                "\n",
                "    if os.path.exists(checkpoint_full_path):\n",
                "        print(\"Loading from checkpoint\")\n",
                "        model.load_state_dict(torch.load(checkpoint_full_path))\n",
                "    else:\n",
                "        raise Exception(\"No checkpoint found\")\n",
                "        train_loss, test_loss, _, _ = finetune(model, trainloader=trainloader, testloader=testloader)\n",
                "        train_losses.append(train_loss)\n",
                "        test_losses.append(test_loss)\n",
                "        if not os.path.exists(checkpoint_folder):\n",
                "            os.makedirs(checkpoint_folder)\n",
                "        torch.save(model.state_dict(), checkpoint_full_path)\n",
                "\n",
                "    _rlcts = []\n",
                "    model.to(\"cpu\")\n",
                "    # for i in range(3):\n",
                "    #     _rlct = estimate_learning_coeff(\n",
                "    #         model,\n",
                "    #         trainloader,\n",
                "    #         nn.CrossEntropyLoss(),\n",
                "    #         sampling_method=SGNHT,\n",
                "    #         num_draws=100,\n",
                "    #         num_chains=3,\n",
                "    #         num_burnin_steps=0,\n",
                "    #         num_steps_bw_draws=1,\n",
                "    #         optimizer_kwargs={\"diffusion_factor\": 0.01, \"lr\":1e-5},\n",
                "    #         cores=None,\n",
                "    #         seed=None,\n",
                "    #         pbar=True,\n",
                "    #         device=\"cpu\",\n",
                "    #     )\n",
                "    #     _rlcts.append(_rlct)\n",
                "    #     print(_rlct)\n",
                "    # rlcts.append(_rlcts)\n",
                "\n",
                "    _rlcts = Parallel(n_jobs=8, verbose=10)(\n",
                "        delayed(estimate_learning_coeff)(\n",
                "            model,\n",
                "            trainloader,\n",
                "            nn.CrossEntropyLoss(),\n",
                "            sampling_method=SGLD,\n",
                "            num_draws=100,\n",
                "            num_chains=3,\n",
                "            num_burnin_steps=0,\n",
                "            num_steps_bw_draws=1,\n",
                "            optimizer_kwargs={\"noise_level\": 0.5, \"lr\":1e-5, \"temperature\": \"adaptive\", \"elasticity\": 100.0},\n",
                "            cores=1,\n",
                "            seed=None,\n",
                "            pbar=True,\n",
                "            device=\"cpu\",\n",
                "        )\n",
                "        for _ in range(num_runs)\n",
                "    )\n",
                "    print(rlcts)\n",
                "    rlcts.append(_rlcts)"
            ]
        },
        {
            "cell_type": "code",
            "execution_count": 16,
            "metadata": {},
            "outputs": [
                {
                    "data": {
                        "image/png": "[encoded data removed]",
                        "text/plain": [
                            "<Figure size 720x432 with 2 Axes>"
                        ]
                    },
                    "metadata": {},
                    "output_type": "display_data"
                }
            ],
            "source": [
                "sns.set()\n",
                "\n",
                "blue = sns.color_palette()[0]\n",
                "\n",
                "resnet_depths = [18, 34, 50, 101]#, 152]\n",
                "\n",
                "# Names for the different ResNet architectures\n",
                "arch_names = [\"ResNet18\", \"ResNet34\", \"ResNet50\", \"ResNet101\"]# , \"ResNet152\"]\n",
                "\n",
                "# Calculate means and standard deviations\n",
                "means = [np.mean(_rlcts) for _rlcts in rlcts]\n",
                "stds = [np.std(_rlcts) for _rlcts in rlcts]\n",
                "\n",
                "# Calculate error bounds\n",
                "lower_bounds = [mean - std for mean, std in zip(means, stds)]\n",
                "upper_bounds = [mean + std for mean, std in zip(means, stds)]\n",
                "\n",
                "# Create the plot\n",
                "plt.figure(figsize=(10, 6))\n",
                "\n",
                "# Plot the scatter points for the means\n",
                "plt.scatter(resnet_depths, means, color=blue, label=r\"Mean $\\hat\\lambda$\", zorder=2)\n",
                "\n",
                "# Plot the transparent area chart for the error bars\n",
                "plt.fill_between(\n",
                "    resnet_depths,\n",
                "    lower_bounds,\n",
                "    upper_bounds,\n",
                "    color=blue,\n",
                "    alpha=0.3,\n",
                "    label=r\"Std $\\hat\\lambda$\",\n",
                ")\n",
                "plt.xlabel(\"Depth\")\n",
                "plt.ylabel(r\"$\\hat\\lambda$\")\n",
                "\n",
                "# plot train/test loss using the following values\n",
                "if train_losses == [] or test_losses == []:\n",
                "    train_losses = [0.05407725289768102, 0.037803933233478845, 0.025594835435705527, 0.01902599687859112]#, 0.027865518259872893]\n",
                "    test_losses = [0.8687256649136543, 0.8280440777540207, 0.7612130239605903, 0.8688971266150475]#, 0.906803734600544]\n",
                "# plot\n",
                "ax2 = plt.twinx()\n",
                "ax2.plot(resnet_depths, train_losses, marker='o', label='Train Loss')\n",
                "ax2.plot(resnet_depths, test_losses, marker='o', label='Test Loss')\n",
                "ax2.set_ylabel('Loss')\n",
                "\n",
                "plt.xticks(resnet_depths, arch_names)\n",
                "plt.grid(True, linestyle=\"--\", linewidth=0.5)\n",
                "plt.legend()\n",
                "\n",
                "# Show the plot\n",
                "plt.show()"
            ]
        },
        {
            "cell_type": "code",
            "execution_count": null,
            "metadata": {},
            "outputs": [],
            "source": [
                "# Resnet18: Train Loss: 0.05407725289768102, Test Loss: 0.8687256649136543\n",
                "# Resnet34: Train Loss: 0.037803933233478845, Test Loss: 0.8280440777540207\n",
                "# Resnet50: Train Loss: 0.025594835435705527, Test Loss: 0.7612130239605903\n",
                "# Resnet101: Train Loss: 0.01902599687859112, Test Loss: 0.8688971266150475\n",
                "# Resnet152: Train Loss: 0.027865518259872893, Test Loss: 0.906803734600544"
            ]
        },
        {
            "cell_type": "code",
            "execution_count": null,
            "metadata": {},
            "outputs": [
                {
                    "data": {
                        "text/plain": [
                            "[-43.93163280572629,\n",
                            " 21.554973077253564,\n",
                            " 43.51555223743376,\n",
                            " -50.29613626590728,\n",
                            " 10.243158671058652]"
                        ]
                    },
                    "execution_count": 12,
                    "metadata": {},
                    "output_type": "execute_result"
                }
            ],
            "source": [
                "means"
            ]
        },
        {
            "cell_type": "code",
            "execution_count": null,
            "metadata": {},
            "outputs": [],
            "source": []
        }
    ],
    "metadata": {
        "kernelspec": {
            "display_name": ".venv",
            "language": "python",
            "name": "python3"
        },
        "language_info": {
            "codemirror_mode": {
                "name": "ipython",
                "version": 3
            },
            "file_extension": ".py",
            "mimetype": "text/x-python",
            "name": "python",
            "nbconvert_exporter": "python",
            "pygments_lexer": "ipython3",
            "version": "3.10.13"
        },
        "orig_nbformat": 4
    },
    "nbformat": 4,
    "nbformat_minor": 2
}
